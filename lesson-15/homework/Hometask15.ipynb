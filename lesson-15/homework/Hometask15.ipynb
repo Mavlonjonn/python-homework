{
 "cells": [
  {
   "cell_type": "code",
   "execution_count": 1,
   "id": "a56376c0",
   "metadata": {},
   "outputs": [
    {
     "name": "stdout",
     "output_type": "stream",
     "text": [
      "[('Benjamin Sisko', 'Human', 40), ('Ezri Dax', 'Trill', 300), ('Kira Nerys', 'Bajoran', 29)]\n"
     ]
    }
   ],
   "source": [
    "#Q1 Roster table \n",
    "import sqlite3\n",
    "\n",
    "with sqlite3.connect('hometask15.db') as connection:\n",
    "    cursor = connection.cursor()\n",
    "    query = [\n",
    "        \"create table if not exists Roster(Name text, Species text, Age int)\",\n",
    "        \"select * from Roster\"\n",
    "    ]\n",
    "    for i in query:\n",
    "        cursor.execute(i)\n",
    "        if i.startswith(\"select\"):\n",
    "            results = cursor.fetchall()\n",
    "            print(results)"
   ]
  },
  {
   "cell_type": "code",
   "execution_count": 4,
   "id": "18538719",
   "metadata": {},
   "outputs": [
    {
     "name": "stdout",
     "output_type": "stream",
     "text": [
      "[('Benjamin Sisko', 'Human', 40), ('Jadzia Dax', 'Trill', 300), ('Kira Nerys', 'Bajoran', 29)]\n"
     ]
    }
   ],
   "source": [
    "#Q2 Populating a new table \n",
    "\n",
    "import sqlite3\n",
    "with sqlite3.connect('hometask15.db') as connection:\n",
    "    cursor = connection.cursor()\n",
    "    query = [\n",
    "        \"insert into Roster(Name, Species, Age) values ('Benjamin Sisko', 'Human', 40)\",\n",
    "        \"insert into Roster(Name, Species, Age) values ('Jadzia Dax', 'Trill', 300)\",\n",
    "        \"insert into Roster(Name, Species, Age) values ('Kira Nerys', 'Bajoran', 29)\",\n",
    "        \"select * from Roster\"\n",
    "    ]\n",
    "    for i in query:\n",
    "        cursor.execute(i)\n",
    "        if i.startswith('select'):\n",
    "            results = cursor.fetchall()\n",
    "            print(results)"
   ]
  },
  {
   "cell_type": "code",
   "execution_count": 5,
   "id": "5f5bbec5",
   "metadata": {},
   "outputs": [
    {
     "name": "stdout",
     "output_type": "stream",
     "text": [
      "[('Benjamin Sisko', 'Human', 40), ('Ezri Dax', 'Trill', 300), ('Kira Nerys', 'Bajoran', 29)]\n"
     ]
    }
   ],
   "source": [
    "#Q3 Updating name \n",
    "import sqlite3\n",
    "with sqlite3.connect('hometask15.db') as connection:\n",
    "    cursor = connection.cursor()\n",
    "    query = [\n",
    "        \"update Roster set Name = 'Ezri Dax' where Name = 'Jadzia Dax'\", \n",
    "        \"select * from Roster\"\n",
    "    ]\n",
    "    for i in query:\n",
    "        cursor.execute(i) \n",
    "        if i.startswith('select'):\n",
    "            results = cursor.fetchall()\n",
    "            print(results)"
   ]
  },
  {
   "cell_type": "code",
   "execution_count": 2,
   "id": "6754cf04",
   "metadata": {},
   "outputs": [
    {
     "name": "stdout",
     "output_type": "stream",
     "text": [
      "[('Kira Nerys', 29)]\n"
     ]
    }
   ],
   "source": [
    "#Q4 Displaying ages and names of Bajorans \n",
    "import sqlite3 \n",
    "with sqlite3.connect('hometask15.db') as connection:\n",
    "    cursor = connection.cursor()\n",
    "    query = [\n",
    "        \"select Name, Age from Roster where Species = 'Bajoran'\"\n",
    "    ]\n",
    "    for i in query:\n",
    "        cursor.execute(i)\n",
    "        results = cursor.fetchall()\n",
    "        print(results)\n",
    "    "
   ]
  }
 ],
 "metadata": {
  "kernelspec": {
   "display_name": "Python 3",
   "language": "python",
   "name": "python3"
  },
  "language_info": {
   "codemirror_mode": {
    "name": "ipython",
    "version": 3
   },
   "file_extension": ".py",
   "mimetype": "text/x-python",
   "name": "python",
   "nbconvert_exporter": "python",
   "pygments_lexer": "ipython3",
   "version": "3.13.2"
  }
 },
 "nbformat": 4,
 "nbformat_minor": 5
}
