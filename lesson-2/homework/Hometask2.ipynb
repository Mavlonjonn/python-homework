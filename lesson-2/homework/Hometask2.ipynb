{
 "cells": [
  {
   "cell_type": "code",
   "execution_count": null,
   "metadata": {},
   "outputs": [],
   "source": [
    "#age calculator \n",
    "from datetime import date \n",
    "\n",
    "name = input(\"Enter your name: \")\n",
    "DOB = input(\"Enter your date of birth: (dd/mm/YYYY)\").split(\"/\")\n",
    "day = int(DOB[0])\n",
    "month = int(DOB[1]) \n",
    "year = int(DOB[2])\n",
    "dateofbirth = date(year, month, day)\n",
    "today = date.today()\n",
    "\n",
    "age = today.year - dateofbirth.year\n",
    "\n",
    "if (today.month, today.day) < (dateofbirth.month, dateofbirth.day):\n",
    "    age -=1 \n",
    "print(f'Hello {name}! Your age is {age}')"
   ]
  },
  {
   "cell_type": "code",
   "execution_count": null,
   "metadata": {},
   "outputs": [],
   "source": [
    "#extract car names \n",
    "txt = 'LMaasleitbtui'\n",
    "\n",
    "c1 = txt[0::2]\n",
    "c2 = txt[1::2]\n",
    "print(f'''First car is {c1}\n",
    "Second car is {c2}''')"
   ]
  },
  {
   "cell_type": "code",
   "execution_count": null,
   "metadata": {},
   "outputs": [],
   "source": [
    "#extract car names \n",
    "txt = 'MsaatmiazD'\n",
    "\n",
    "a = txt[0::2]\n",
    "b = txt[::-1][0::2]\n",
    "print(f'''First car is {a}\n",
    "Second car is {b}''')"
   ]
  },
  {
   "cell_type": "code",
   "execution_count": null,
   "metadata": {},
   "outputs": [],
   "source": [
    "#extract residence area \n",
    "txt = \"I'am John. I am from London\" \n",
    "\n",
    "print(txt[::-1][0:txt.index(\" \")+2][::-1])"
   ]
  },
  {
   "cell_type": "code",
   "execution_count": null,
   "metadata": {},
   "outputs": [],
   "source": [
    "#user value reversed \n",
    "x = input(\"Enter string value: \")\n",
    "print(x[::-1])"
   ]
  },
  {
   "cell_type": "code",
   "execution_count": null,
   "metadata": {},
   "outputs": [],
   "source": [
    "#Count vowels \n",
    "r = input(\"Enter the statement: \") \n",
    "r.lower().count('a')+r.count('e')+r.count('i')+r.count('o')+r.count('u')"
   ]
  },
  {
   "cell_type": "code",
   "execution_count": null,
   "metadata": {},
   "outputs": [],
   "source": [
    "#maximum value \n",
    "n = input(\"Enter the list of numbers: \").split()\n",
    "intn = [int(i) for i in n]\n",
    "m = max(n)\n",
    "m "
   ]
  },
  {
   "cell_type": "code",
   "execution_count": null,
   "metadata": {},
   "outputs": [],
   "source": [
    "#Check Palindrome \n",
    "o = input(\"Enter the word in lowercase: \")\n",
    "p = o[::-1]\n",
    "if o.lower() == p.lower():\n",
    "    print(f'This word is palindrome: {o}')\n",
    "else:\n",
    "    print(f'Not a palindrome word. Try other one')"
   ]
  },
  {
   "cell_type": "code",
   "execution_count": null,
   "metadata": {},
   "outputs": [],
   "source": [
    "#Extract Email Domain \n",
    "e = input(\"Enter email address: \")\n",
    "d = e[e.index('@')+1:]\n",
    "print(f'The domain of your email: {d}')"
   ]
  },
  {
   "cell_type": "code",
   "execution_count": 1,
   "metadata": {},
   "outputs": [
    {
     "name": "stdout",
     "output_type": "stream",
     "text": [
      "]1]63i}e$\n"
     ]
    }
   ],
   "source": [
    "#generate random password \n",
    "letter = [ 'a', 'b', 'c', 'd', 'e', 'f', 'g', 'h', 'i', 'j', 'k', 'l', 'm', 'n', 'o', 'p', 'q', 'r', 's', 't', 'u', 'v', 'w', 'x', 'y', 'z']\n",
    "symbols = ['!', '@', '#', '$', '%', '^', '&', '*', '(', ')', '-', '_', '=', '+', '[', ']', '{', '}', ';', ':', ',', '.', '<', '>', '?', '/', '|', '~'] \n",
    "numbers = ['0', '1', '2', '3', '4', '5', '6', '7', '8', '9']\n",
    "\n",
    "l = int(input(\"Enter the number of letters to include in password: \"))\n",
    "n = int(input(\"Enter the number of numbers to include in password: \"))\n",
    "s = int(input(\"Enter the number of symbols to include in password: \")) \n",
    "\n",
    "import random\n",
    "lets = random.choices(letter, k=l)\n",
    "nums = random.choices(numbers, k=n)\n",
    "syms = random.choices(symbols, k=s)\n",
    "\n",
    "all = lets+nums+syms \n",
    "random.shuffle(all)\n",
    "print(\"\".join(all)) "
   ]
  }
 ],
 "metadata": {
  "kernelspec": {
   "display_name": "Python 3",
   "language": "python",
   "name": "python3"
  },
  "language_info": {
   "codemirror_mode": {
    "name": "ipython",
    "version": 3
   },
   "file_extension": ".py",
   "mimetype": "text/x-python",
   "name": "python",
   "nbconvert_exporter": "python",
   "pygments_lexer": "ipython3",
   "version": "3.13.2"
  }
 },
 "nbformat": 4,
 "nbformat_minor": 2
}
