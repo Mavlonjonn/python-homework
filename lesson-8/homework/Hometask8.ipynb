{
 "cells": [
  {
   "cell_type": "markdown",
   "id": "37113156",
   "metadata": {},
   "source": [
    "## Exception Handling"
   ]
  },
  {
   "cell_type": "code",
   "execution_count": null,
   "id": "079eadc9",
   "metadata": {},
   "outputs": [],
   "source": [
    "#Zerodivisionerror \n",
    "n1 = int(input(\"Enter the first number: \"))\n",
    "n2 = int(input(\"Enter the second number: \")) \n",
    "\n",
    "try:\n",
    "    r = n1/n2 \n",
    "    print(f'The result: {r}')\n",
    "except:\n",
    "    print('Zerodivision error!')"
   ]
  },
  {
   "cell_type": "code",
   "execution_count": null,
   "id": "217c7575",
   "metadata": {},
   "outputs": [],
   "source": [
    "#Value error \n",
    "try:\n",
    "    user_input = input(\"Enter an integer: \")\n",
    "    number = int(user_input)\n",
    "    print('True')\n",
    "except ValueError:\n",
    "    print(\"Error! Enter an integer.\")"
   ]
  },
  {
   "cell_type": "code",
   "execution_count": null,
   "id": "de347819",
   "metadata": {},
   "outputs": [],
   "source": [
    "#FileNotFoundError \n",
    "try:\n",
    "    with open(\"file.txt\", \"r\") as file:\n",
    "        content = file.read()\n",
    "except FileNotFoundError:\n",
    "    print(\"This file doesn't exist!\") "
   ]
  },
  {
   "cell_type": "code",
   "execution_count": null,
   "id": "f1c6c883",
   "metadata": {},
   "outputs": [],
   "source": [
    "#TypeError \n",
    "try:\n",
    "    a = input(\"Enter first number: \")\n",
    "    b = input(\"Enter second number: \")\n",
    "except ValueError:\n",
    "    raise TypeError(\"Inputs are not numerical.\")\n",
    "else:\n",
    "    result = float(a) + float(b)\n",
    "    print(\"Sum:\", result)"
   ]
  },
  {
   "cell_type": "code",
   "execution_count": null,
   "id": "a1a4d728",
   "metadata": {},
   "outputs": [],
   "source": [
    "#PermissionError \n",
    "try:\n",
    "    with open(\"file.txt\", \"w\") as file:\n",
    "        file.write(\"This is the file to access\")\n",
    "except PermissionError:\n",
    "    print(\"You don't have a permission to access this file.\") "
   ]
  },
  {
   "cell_type": "code",
   "execution_count": null,
   "id": "163ea050",
   "metadata": {},
   "outputs": [],
   "source": [
    "#IndexError \n",
    "my_list = [1, 2, 3]\n",
    "try:\n",
    "    uchoice = int(input(\"Enter an index number: \"))\n",
    "    element = my_list[uchoice]\n",
    "    print(element)\n",
    "except IndexError:\n",
    "    print(\"Index out of range!\")"
   ]
  },
  {
   "cell_type": "code",
   "execution_count": null,
   "id": "a8ddb53a",
   "metadata": {},
   "outputs": [],
   "source": [
    "#KeyboardInterrupt \n",
    "try:\n",
    "    user_input = input(\"Enter a number: \")\n",
    "    print(user_input)\n",
    "except KeyboardInterrupt:\n",
    "    print(\"You have cancelled input\")"
   ]
  },
  {
   "cell_type": "code",
   "execution_count": null,
   "id": "ecc88d04",
   "metadata": {},
   "outputs": [],
   "source": [
    "#ArithmeticError \n",
    "try:\n",
    "    result = 10 / 0\n",
    "except ArithmeticError:\n",
    "    print(\"Arithmetic error occurred.\")"
   ]
  },
  {
   "cell_type": "code",
   "execution_count": null,
   "id": "a7fb0339",
   "metadata": {},
   "outputs": [],
   "source": [
    "#UnicodeDecodeError \n",
    "try:\n",
    "    with open(\"file.txt\", \"r\", encoding=\"ascii\") as file:\n",
    "        content = file.read()\n",
    "except UnicodeDecodeError:\n",
    "    print(\"Encoding issue!\")"
   ]
  },
  {
   "cell_type": "code",
   "execution_count": null,
   "id": "0a911f8b",
   "metadata": {},
   "outputs": [],
   "source": [
    "#AttributeError \n",
    "class MyClass:\n",
    "    pass\n",
    "\n",
    "obj = MyClass()\n",
    "try:\n",
    "    obj.attribute \n",
    "except AttributeError:\n",
    "    print(\"Attribute does not exist.\")"
   ]
  },
  {
   "cell_type": "markdown",
   "id": "4b2f16a6",
   "metadata": {},
   "source": [
    "## Input/Output"
   ]
  },
  {
   "cell_type": "code",
   "execution_count": null,
   "id": "12d4b746",
   "metadata": {},
   "outputs": [],
   "source": [
    "# Task 1: Read an entire text file\n",
    "filename = 'input.txt'\n",
    "try:\n",
    "    with open(filename, 'r') as file:\n",
    "        content = file.read()\n",
    "        print(content)\n",
    "except FileNotFoundError:\n",
    "    print(f\"File '{filename}' not found.\")"
   ]
  },
  {
   "cell_type": "code",
   "execution_count": null,
   "id": "0f920f90",
   "metadata": {},
   "outputs": [],
   "source": [
    "# Task 2: Read first n lines of a file\n",
    "filename = 'input.txt'\n",
    "n = int(input(\"Enter a number of line: \"))\n",
    "try:\n",
    "    with open(filename, 'r') as file:\n",
    "        for i in range(n):\n",
    "            line = file.readline()\n",
    "            if not line:  \n",
    "                break\n",
    "            print(line, end='')\n",
    "except FileNotFoundError:\n",
    "    print(f\"File '{filename}' not found.\")"
   ]
  },
  {
   "cell_type": "code",
   "execution_count": null,
   "id": "9c74a3cf",
   "metadata": {},
   "outputs": [],
   "source": [
    "# Task 3: Append text to a file and display the text\n",
    "filename = 'output.txt'\n",
    "texttoappend = \"This is the appended text.\\n\"\n",
    "try:\n",
    "    with open(filename, 'a') as file:\n",
    "        file.write(texttoappend)\n",
    "    with open(filename, 'r') as file:\n",
    "        content = file.read()\n",
    "        print(content)\n",
    "except FileNotFoundError:\n",
    "    print(f\"File '{filename}' not found.\")\n"
   ]
  },
  {
   "cell_type": "code",
   "execution_count": null,
   "id": "c2ccc84b",
   "metadata": {},
   "outputs": [],
   "source": [
    "# Task 4: Read last n lines of a file\n",
    "filename = 'input.txt'\n",
    "n = int(input(\"Enter a number of lines: \"))\n",
    "try:\n",
    "    with open(filename, 'r') as file:\n",
    "        lines = file.readlines()\n",
    "        last_n_lines = lines[-n:]  \n",
    "        for line in last_n_lines:\n",
    "            print(line, end='')\n",
    "except FileNotFoundError:\n",
    "    print(f\"File '{filename}' not found.\")"
   ]
  },
  {
   "cell_type": "code",
   "execution_count": null,
   "id": "ea4dea46",
   "metadata": {},
   "outputs": [],
   "source": [
    "# Task 5: Read a file line by line and store it into a list\n",
    "filename = 'input.txt'\n",
    "try:\n",
    "    with open(filename, 'r') as file:\n",
    "        lines = [line.strip() for line in file]  \n",
    "    print(lines)\n",
    "except FileNotFoundError:\n",
    "    print(f\"File '{filename}' not found.\")"
   ]
  },
  {
   "cell_type": "code",
   "execution_count": null,
   "id": "74f96c4f",
   "metadata": {},
   "outputs": [],
   "source": [
    "# Task 6: Read a file line by line and store it into a variable\n",
    "filename = 'input.txt'\n",
    "try:\n",
    "    with open(filename, 'r') as file:\n",
    "        content = ''\n",
    "        for line in file:\n",
    "            content += line \n",
    "    print(content)\n",
    "except FileNotFoundError:\n",
    "    print(f\"File '{filename}' not found.\")"
   ]
  },
  {
   "cell_type": "code",
   "execution_count": null,
   "id": "1f6446ba",
   "metadata": {},
   "outputs": [],
   "source": [
    "# Task 7: Read a file line by line and store it into an array (list)\n",
    "filename = 'input.txt'\n",
    "try:\n",
    "    with open(filename, 'r') as file:\n",
    "        array = [line.strip() for line in file]  \n",
    "    print(array)\n",
    "except FileNotFoundError:\n",
    "    print(f\"File '{filename}' not found.\")"
   ]
  },
  {
   "cell_type": "code",
   "execution_count": null,
   "id": "185befc3",
   "metadata": {},
   "outputs": [],
   "source": [
    "# Task 8: Find the longest words\n",
    "filename = 'input.txt'\n",
    "try:\n",
    "    with open(filename, 'r') as file:\n",
    "        content = file.read()\n",
    "        words = content.split()  \n",
    "        max_length = max(len(word) for word in words)  \n",
    "        longest_words = [word for word in words if len(word) == max_length]  \n",
    "        print(\"Longest words:\", longest_words)\n",
    "except FileNotFoundError:\n",
    "    print(f\"File '{filename}' not found.\")"
   ]
  },
  {
   "cell_type": "code",
   "execution_count": null,
   "id": "7858e7b1",
   "metadata": {},
   "outputs": [],
   "source": [
    "# Task 9: Count the number of lines in a text file\n",
    "filename = 'input.txt'\n",
    "try:\n",
    "    with open(filename, 'r') as file:\n",
    "        lines = file.readlines()\n",
    "        print(\"Number of lines:\", len(lines))\n",
    "except FileNotFoundError:\n",
    "    print(f\"File '{filename}' not found.\")"
   ]
  },
  {
   "cell_type": "code",
   "execution_count": null,
   "id": "f1ce73e8",
   "metadata": {},
   "outputs": [],
   "source": [
    "# Task 10: Count the frequency of words in a file\n",
    "filename = 'input.txt'\n",
    "try:\n",
    "    with open(filename, 'r') as file:\n",
    "        content = file.read()\n",
    "        words = content.split()  \n",
    "        word_freq = {}\n",
    "        for word in words:\n",
    "            word_freq[word] = word_freq.get(word, 0) + 1  \n",
    "        for word, freq in word_freq.items():\n",
    "            print(f\"{word}: {freq}\")\n",
    "except FileNotFoundError:\n",
    "    print(f\"File '{filename}' not found.\")"
   ]
  },
  {
   "cell_type": "code",
   "execution_count": null,
   "id": "c4f631bd",
   "metadata": {},
   "outputs": [],
   "source": [
    "# Task 11: Get the file size of a plain file\n",
    "import os\n",
    "filename = 'input.txt'\n",
    "try:\n",
    "    size = os.path.getsize(filename)  \n",
    "    print(f\"File size: {size} bytes\")\n",
    "except OSError as e:\n",
    "    print(f\"Error occured! {e}\")"
   ]
  },
  {
   "cell_type": "code",
   "execution_count": null,
   "id": "622120c0",
   "metadata": {},
   "outputs": [],
   "source": [
    "# Task 12: Write a list to a file\n",
    "filename = 'output.txt'\n",
    "my_list = [\"line1\", \"line2\", \"line3\"]\n",
    "with open(filename, 'w') as file:\n",
    "    for item in my_list:\n",
    "        file.write(item + '\\n')  "
   ]
  },
  {
   "cell_type": "code",
   "execution_count": null,
   "id": "75ef1360",
   "metadata": {},
   "outputs": [],
   "source": [
    "# Task 13: Copy the contents of a file to another file\n",
    "source_file = 'input.txt'\n",
    "destination_file = 'output.txt'\n",
    "try:\n",
    "    with open(source_file, 'r') as src:\n",
    "        content = src.read()\n",
    "    with open(destination_file, 'w') as dest:\n",
    "        dest.write(content)\n",
    "    print(\"File copied successfully.\")\n",
    "except FileNotFoundError:\n",
    "    print(f\"Source file '{source_file}' not found.\")"
   ]
  },
  {
   "cell_type": "code",
   "execution_count": null,
   "id": "48fd3e5f",
   "metadata": {},
   "outputs": [],
   "source": [
    "# Task 14: Combine each line from the first file with the corresponding line in the second file\n",
    "file1 = 'file1.txt'\n",
    "file2 = 'file2.txt'\n",
    "output_file = 'combined.txt'\n",
    "try:\n",
    "    with open(file1, 'r') as f1, open(file2, 'r') as f2:\n",
    "        lines1 = f1.readlines()\n",
    "        lines2 = f2.readlines()\n",
    "        combined_lines = [line1.strip() + ' ' + line2.strip() + '\\n' for line1, line2 in zip(lines1, lines2)]\n",
    "    with open(output_file, 'w') as out:\n",
    "        out.writelines(combined_lines)\n",
    "    print(\"Files combined successfully.\")\n",
    "except FileNotFoundError as e:\n",
    "    print(f\"Error occured! {e}\")"
   ]
  },
  {
   "cell_type": "code",
   "execution_count": null,
   "id": "eb005cfb",
   "metadata": {},
   "outputs": [],
   "source": [
    "# Task 15: Read a random line from a file\n",
    "import random\n",
    "filename = 'input.txt'\n",
    "try:\n",
    "    with open(filename, 'r') as file:\n",
    "        lines = file.readlines()\n",
    "        if lines:\n",
    "            random_line = random.choice(lines)  \n",
    "            print(\"Random line:\", random_line.strip())\n",
    "        else:\n",
    "            print(\"File is empty.\")\n",
    "except FileNotFoundError:\n",
    "    print(f\"File '{filename}' not found.\")"
   ]
  },
  {
   "cell_type": "code",
   "execution_count": null,
   "id": "a80f69d3",
   "metadata": {},
   "outputs": [],
   "source": [
    "# Task 16: Assess if a file is closed or not\n",
    "filename = 'input.txt'\n",
    "try:\n",
    "    file = open(filename, 'r')\n",
    "    print(\"File is closed:\", file.closed)  \n",
    "    file.close()\n",
    "    print(\"File is closed:\", file.closed)  \n",
    "except FileNotFoundError:\n",
    "    print(f\"File '{filename}' not found.\")"
   ]
  },
  {
   "cell_type": "code",
   "execution_count": null,
   "id": "92cfbd25",
   "metadata": {},
   "outputs": [],
   "source": [
    "#Task 17: Remove Newline characters\n",
    "def remove_newlines(filename):\n",
    "    with open(filename, 'r') as file:\n",
    "        content = file.read()\n",
    "    content = content.replace('\\n', '')\n",
    "    with open(filename, 'w') as file:\n",
    "        file.write(content)\n",
    "\n",
    "remove_newlines() "
   ]
  },
  {
   "cell_type": "code",
   "execution_count": null,
   "id": "5afb50af",
   "metadata": {},
   "outputs": [],
   "source": [
    "# Task 18: Number of words \n",
    "def count_words(filename):\n",
    "    with open(filename, 'r') as file:\n",
    "        content = file.read()\n",
    "    content = content.replace(',', ' ')\n",
    "    words = content.split()\n",
    "    return len(words)\n",
    "\n",
    "print(count_words())"
   ]
  },
  {
   "cell_type": "code",
   "execution_count": null,
   "id": "5e02ea69",
   "metadata": {},
   "outputs": [],
   "source": [
    "# Task 19: extract characters \n",
    "def extract_characters(filenames):\n",
    "    char_list = []\n",
    "    for filename in filenames:\n",
    "        with open(filename, 'r') as file:\n",
    "            content = file.read()\n",
    "            char_list.extend(list(content))\n",
    "    return char_list\n",
    "\n",
    "print(extract_characters([]))"
   ]
  },
  {
   "cell_type": "code",
   "execution_count": null,
   "id": "ceb18246",
   "metadata": {},
   "outputs": [],
   "source": [
    "# Task 20: 26 text files \n",
    "import string\n",
    "\n",
    "for letter in string.ascii_uppercase:\n",
    "    with open(f\"{letter}.txt\", 'w') as file:\n",
    "        pass  "
   ]
  },
  {
   "cell_type": "code",
   "execution_count": 31,
   "id": "f7167d46",
   "metadata": {},
   "outputs": [],
   "source": [
    "# Task 21: English alphabet \n",
    "import string\n",
    "\n",
    "n = int(input(\"Enter letters per line: \"))\n",
    "letters = string.ascii_uppercase\n",
    "\n",
    "with open('alphabet.txt', 'w') as file:\n",
    "    for i in range(0, len(letters), n):\n",
    "        line = ' '.join(letters[i:i+n]) + '\\n'\n",
    "        file.write(line)"
   ]
  }
 ],
 "metadata": {
  "kernelspec": {
   "display_name": "Python 3",
   "language": "python",
   "name": "python3"
  },
  "language_info": {
   "codemirror_mode": {
    "name": "ipython",
    "version": 3
   },
   "file_extension": ".py",
   "mimetype": "text/x-python",
   "name": "python",
   "nbconvert_exporter": "python",
   "pygments_lexer": "ipython3",
   "version": "3.13.2"
  }
 },
 "nbformat": 4,
 "nbformat_minor": 5
}
