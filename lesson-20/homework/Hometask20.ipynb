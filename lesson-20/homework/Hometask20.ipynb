{
 "cells": [
  {
   "cell_type": "code",
   "execution_count": 2,
   "id": "a22f8582",
   "metadata": {},
   "outputs": [
    {
     "name": "stdout",
     "output_type": "stream",
     "text": [
      "Top 5 Customers by Total Spent:\n",
      "    CustomerId                Name  TotalSpent\n",
      "5            6         Helena Holý       49.62\n",
      "25          26  Richard Cunningham       47.62\n",
      "56          57          Luis Rojas       46.62\n",
      "44          45     Ladislav Kovács       45.62\n",
      "45          46       Hugh O'Reilly       45.62\n"
     ]
    }
   ],
   "source": [
    "import sqlite3\n",
    "import pandas as pd\n",
    "\n",
    "# Connecting to the database\n",
    "conn = sqlite3.connect('chinook.db')\n",
    "\n",
    "#Q1  Customer Purchases Analysis\n",
    "# Calculate total amount spent by each customer\n",
    "query = \"\"\"\n",
    "SELECT c.CustomerId, c.FirstName || ' ' || c.LastName AS Name, \n",
    "       SUM(i.Total) AS TotalSpent\n",
    "FROM customers c\n",
    "JOIN invoices i ON c.CustomerId = i.CustomerId\n",
    "GROUP BY c.CustomerId, c.FirstName, c.LastName\n",
    "\"\"\"\n",
    "df_spent = pd.read_sql_query(query, conn)\n",
    "\n",
    "# Identify top 5 customers\n",
    "top_5 = df_spent.sort_values(by='TotalSpent', ascending=False).head(5)\n",
    "\n",
    "# Display results\n",
    "print(\"Top 5 Customers by Total Spent:\")\n",
    "print(top_5)"
   ]
  },
  {
   "cell_type": "code",
   "execution_count": 3,
   "id": "7e1c6417",
   "metadata": {},
   "outputs": [
    {
     "name": "stdout",
     "output_type": "stream",
     "text": [
      "\n",
      "Album vs Individual Track Preferences:\n",
      "Percentage preferring Individual Tracks: 100.00%\n",
      "Percentage preferring Full Albums: 0.00%\n",
      "\n",
      "Preference Summary:\n",
      "Preference\n",
      "Individual Tracks    59\n",
      "Name: count, dtype: int64\n"
     ]
    }
   ],
   "source": [
    "#Q2 Album vs Individual Track Purchases\n",
    "# Getting invoice line items with track and album info\n",
    "query = \"\"\"\n",
    "SELECT DISTINCT i.CustomerId, t.AlbumId, t.TrackId\n",
    "FROM invoice_items ii\n",
    "JOIN tracks t ON ii.TrackId = t.TrackId\n",
    "JOIN invoices i ON ii.InvoiceId = i.InvoiceId\n",
    "\"\"\"\n",
    "df_purchases = pd.read_sql_query(query, conn)\n",
    "\n",
    "# Getting total tracks per album\n",
    "query = \"\"\"\n",
    "SELECT AlbumId, COUNT(TrackId) AS TotalTracks\n",
    "FROM tracks\n",
    "GROUP BY AlbumId\n",
    "\"\"\"\n",
    "df_album_tracks = pd.read_sql_query(query, conn)\n",
    "\n",
    "# Merging data to check purchases per customer\n",
    "customer_purchases = df_purchases.groupby('CustomerId')['TrackId'].count().reset_index(name='TracksPurchased')\n",
    "customer_albums = df_purchases.groupby(['CustomerId', 'AlbumId'])['TrackId'].count().reset_index(name='TracksPerAlbum')\n",
    "customer_albums = customer_albums.merge(df_album_tracks, on='AlbumId')\n",
    "\n",
    "# Determining preference\n",
    "preferences = []\n",
    "for customer_id in customer_purchases['CustomerId']:\n",
    "    customer_data = customer_albums[customer_albums['CustomerId'] == customer_id]\n",
    "    total_tracks = customer_purchases[customer_purchases['CustomerId'] == customer_id]['TracksPurchased'].iloc[0]\n",
    "    album_tracks = customer_data['TotalTracks'].sum()\n",
    "    \n",
    "    if total_tracks < album_tracks and total_tracks > 0:\n",
    "        preferences.append({'CustomerId': customer_id, 'Preference': 'Individual Tracks'})\n",
    "    else:\n",
    "        preferences.append({'CustomerId': customer_id, 'Preference': 'Full Albums'})\n",
    "\n",
    "df_preferences = pd.DataFrame(preferences)\n",
    "\n",
    "# Calculating percentages\n",
    "total_customers = len(df_preferences)\n",
    "ind_track_pct = (len(df_preferences[df_preferences['Preference'] == 'Individual Tracks']) / total_customers) * 100\n",
    "full_album_pct = (len(df_preferences[df_preferences['Preference'] == 'Full Albums']) / total_customers) * 100\n",
    "\n",
    "print(\"\\nAlbum vs Individual Track Preferences:\")\n",
    "print(f\"Percentage preferring Individual Tracks: {ind_track_pct:.2f}%\")\n",
    "print(f\"Percentage preferring Full Albums: {full_album_pct:.2f}%\")\n",
    "print(\"\\nPreference Summary:\")\n",
    "print(df_preferences['Preference'].value_counts())\n",
    "\n",
    "# Close the database\n",
    "conn.close()"
   ]
  }
 ],
 "metadata": {
  "kernelspec": {
   "display_name": "Python 3",
   "language": "python",
   "name": "python3"
  },
  "language_info": {
   "codemirror_mode": {
    "name": "ipython",
    "version": 3
   },
   "file_extension": ".py",
   "mimetype": "text/x-python",
   "name": "python",
   "nbconvert_exporter": "python",
   "pygments_lexer": "ipython3",
   "version": "3.13.2"
  }
 },
 "nbformat": 4,
 "nbformat_minor": 5
}
