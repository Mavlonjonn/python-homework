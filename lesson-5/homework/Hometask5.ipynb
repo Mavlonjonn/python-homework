{
 "cells": [
  {
   "cell_type": "code",
   "execution_count": null,
   "metadata": {},
   "outputs": [
    {
     "name": "stdout",
     "output_type": "stream",
     "text": [
      "Not a leap year\n",
      "Leap year\n"
     ]
    }
   ],
   "source": [
    "#leap year version 1 \n",
    "year_value = int(input(\"Enter year: \")) \n",
    "if year_value%4 == 0:\n",
    "    if year_value%100 == 0:\n",
    "        if year_value%400 == 0:\n",
    "            print(\"Leap year\")\n",
    "        else:\n",
    "            print(\"Not a leap year\")\n",
    "    else:\n",
    "        print(\"Leap year\")\n",
    "else:\n",
    "    print(\"Not a leap year\") \n",
    "\n",
    "\n",
    "\n",
    "#leap year version 2 \n",
    "year = int(input(\"Enter a year: \"))\n",
    "if (year%4==0 and year%100!=0) or year%400==0:\n",
    "    print(\"Leap year\")\n",
    "else:\n",
    "    print(\"Not a leap year\")\n"
   ]
  },
  {
   "cell_type": "code",
   "execution_count": null,
   "metadata": {},
   "outputs": [
    {
     "name": "stdout",
     "output_type": "stream",
     "text": [
      "Weird\n"
     ]
    }
   ],
   "source": [
    "#q2 \n",
    "number = int(input(\"Enter a number: \"))\n",
    "if number%2 != 0:\n",
    "    print(\"Weird\")\n",
    "elif number%2 == 0 and number in range(2, 6):\n",
    "    print(\"Not Weird\")\n",
    "elif number%2 == 0 and number in range(6, 21):\n",
    "    print(\"Weird\")\n",
    "elif number%2 == 0 and number > 20:\n",
    "    print(\"Not Weird\")"
   ]
  },
  {
   "cell_type": "code",
   "execution_count": null,
   "metadata": {},
   "outputs": [],
   "source": [
    "#q3 \n",
    "#with if-else statement \n",
    "parameter1 = int(input(\"Enter initial number: \"))\n",
    "parameter2 = int(input(\"Enter last number: \")) \n",
    "for x in range(parameter1, parameter2+1):\n",
    "    if x % 2 == 0:\n",
    "        print(x)\n",
    "\n",
    "#without if-else statement \n",
    "num1 = int(input(\"Enter initial number: \"))\n",
    "num2 = int(input(\"Enter last number: \")) \n",
    "\n",
    "for x in [i for i in range(num1, num2+1) if i % 2 == 0]:\n",
    "    print(x)"
   ]
  }
 ],
 "metadata": {
  "kernelspec": {
   "display_name": "Python 3",
   "language": "python",
   "name": "python3"
  },
  "language_info": {
   "codemirror_mode": {
    "name": "ipython",
    "version": 3
   },
   "file_extension": ".py",
   "mimetype": "text/x-python",
   "name": "python",
   "nbconvert_exporter": "python",
   "pygments_lexer": "ipython3",
   "version": "3.13.2"
  }
 },
 "nbformat": 4,
 "nbformat_minor": 2
}
