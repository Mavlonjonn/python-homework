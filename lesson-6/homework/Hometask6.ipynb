{
 "cells": [
  {
   "cell_type": "code",
   "execution_count": null,
   "id": "06cf537b",
   "metadata": {},
   "outputs": [],
   "source": [
    "#1 Modify string with underscores \n",
    "txt = list(input(\"Enter string value: \"))\n",
    "vowels = 'aeiou'\n",
    "\n",
    "l = []\n",
    "for x in txt:\n",
    "    l.append(x) \n",
    "x = 3 \n",
    "while x < len(txt):\n",
    "    if l[x-1] in vowels or l[x-1] == '_':\n",
    "        x += 1\n",
    "    l.insert(x, '_')\n",
    "    x+=4 \n",
    "print(''.join(l))\n"
   ]
  },
  {
   "cell_type": "code",
   "execution_count": null,
   "id": "69140227",
   "metadata": {},
   "outputs": [
    {
     "name": "stdout",
     "output_type": "stream",
     "text": [
      "0\n",
      "1\n",
      "4\n",
      "9\n",
      "16\n"
     ]
    }
   ],
   "source": [
    "#2 Integer Squares Exercise \n",
    "st = int(input(\"Enter an integer value: \")) \n",
    "for x in range(st):\n",
    "    print(x*x)"
   ]
  },
  {
   "cell_type": "code",
   "execution_count": null,
   "id": "bcaf15fa",
   "metadata": {},
   "outputs": [
    {
     "name": "stdout",
     "output_type": "stream",
     "text": [
      "1\n",
      "2\n",
      "3\n",
      "4\n",
      "5\n",
      "6\n",
      "7\n",
      "8\n",
      "9\n"
     ]
    }
   ],
   "source": [
    "#3: Exercise 1 \n",
    "n = 1\n",
    "while n<10:\n",
    "    print(n) \n",
    "    n += 1\n",
    "\n"
   ]
  },
  {
   "cell_type": "code",
   "execution_count": 5,
   "id": "59219bb7",
   "metadata": {},
   "outputs": [
    {
     "name": "stdout",
     "output_type": "stream",
     "text": [
      "[1]\n",
      "[1, 2]\n",
      "[1, 2, 3]\n",
      "[1, 2, 3, 4]\n",
      "[1, 2, 3, 4, 5]\n",
      "[1, 2, 3, 4, 5, 6]\n",
      "[1, 2, 3, 4, 5, 6, 7]\n",
      "[1, 2, 3, 4, 5, 6, 7, 8]\n",
      "[1, 2, 3, 4, 5, 6, 7, 8, 9]\n"
     ]
    }
   ],
   "source": [
    "#3 Exercise 2 \n",
    "n = 1 \n",
    "t = []\n",
    "while n < 10:\n",
    "    t.append(n) \n",
    "    n += 1\n",
    "    print(t) \n"
   ]
  },
  {
   "cell_type": "code",
   "execution_count": 7,
   "id": "2d7033db",
   "metadata": {},
   "outputs": [
    {
     "name": "stdout",
     "output_type": "stream",
     "text": [
      "15\n"
     ]
    }
   ],
   "source": [
    "#3 Exercise 3 \n",
    "n = int(input(\"Enter a number: \")) \n",
    "s = 0\n",
    "for x in range(n+1):\n",
    "    s = s + x \n",
    "print(s)"
   ]
  },
  {
   "cell_type": "code",
   "execution_count": 13,
   "id": "4552ed66",
   "metadata": {},
   "outputs": [
    {
     "name": "stdout",
     "output_type": "stream",
     "text": [
      "2\n",
      "4\n",
      "6\n",
      "8\n",
      "10\n",
      "12\n",
      "14\n",
      "16\n",
      "18\n",
      "20\n",
      "22\n",
      "24\n",
      "26\n",
      "28\n",
      "30\n",
      "32\n",
      "34\n",
      "36\n",
      "38\n",
      "40\n"
     ]
    }
   ],
   "source": [
    "#3 Exercise 4 \n",
    "n = int(input(\"Enter a number: \")) \n",
    "for x in range(1, 21):\n",
    "    print(x*n)\n"
   ]
  },
  {
   "cell_type": "code",
   "execution_count": 2,
   "id": "e81f1c47",
   "metadata": {},
   "outputs": [
    {
     "name": "stdout",
     "output_type": "stream",
     "text": [
      "75\n",
      "150\n",
      "145\n"
     ]
    }
   ],
   "source": [
    "#3 Exercise 5 \n",
    "numbers = [12, 75, 150, 180, 145, 525, 50]\n",
    "for x in numbers:\n",
    "    if x > 50 and x<=150:\n",
    "        print(x)"
   ]
  },
  {
   "cell_type": "code",
   "execution_count": 6,
   "id": "953b45b4",
   "metadata": {},
   "outputs": [
    {
     "name": "stdout",
     "output_type": "stream",
     "text": [
      "5\n"
     ]
    }
   ],
   "source": [
    "#3 Exercise 6 \n",
    "l = input(\"Enter a number: \")\n",
    "if l.isdigit():\n",
    "    print(len(l))\n",
    "else:\n",
    "    print(\"Enter a number!\") "
   ]
  },
  {
   "cell_type": "code",
   "execution_count": 37,
   "id": "7bb7ee9a",
   "metadata": {},
   "outputs": [
    {
     "name": "stdout",
     "output_type": "stream",
     "text": [
      "8 7 6 5 4 3 2 1 \n",
      "7 6 5 4 3 2 1 \n",
      "6 5 4 3 2 1 \n",
      "5 4 3 2 1 \n",
      "4 3 2 1 \n",
      "3 2 1 \n",
      "2 1 \n",
      "1 \n"
     ]
    }
   ],
   "source": [
    "#3 Exercise 7 \n",
    "un = int(input(\"Enter a number: \"))\n",
    "for x in range(un, 0, -1):\n",
    "    for y in range(x, 0, -1):\n",
    "        print(y, end=' ') \n",
    "    print()"
   ]
  },
  {
   "cell_type": "code",
   "execution_count": 61,
   "id": "f575f358",
   "metadata": {},
   "outputs": [
    {
     "name": "stdout",
     "output_type": "stream",
     "text": [
      "50\n",
      "40\n",
      "30\n",
      "20\n",
      "10\n"
     ]
    }
   ],
   "source": [
    "#3 Exercise 8\n",
    "list1 = [10, 20, 30, 40, 50] \n",
    "temp = []\n",
    "for x in range(len(list1)-1, -1, -1):\n",
    "    temp.append(list1[x])\n",
    "\n",
    "for x in temp:\n",
    "    print(x)"
   ]
  },
  {
   "cell_type": "code",
   "execution_count": 62,
   "id": "103f28ac",
   "metadata": {},
   "outputs": [
    {
     "name": "stdout",
     "output_type": "stream",
     "text": [
      "-10\n",
      "-9\n",
      "-8\n",
      "-7\n",
      "-6\n",
      "-5\n",
      "-4\n",
      "-3\n",
      "-2\n",
      "-1\n"
     ]
    }
   ],
   "source": [
    "#3 Exercise 9 \n",
    "num = -10 \n",
    "for x in range(num, 0):\n",
    "    print(x)"
   ]
  },
  {
   "cell_type": "code",
   "execution_count": 63,
   "id": "eb59c903",
   "metadata": {},
   "outputs": [
    {
     "name": "stdout",
     "output_type": "stream",
     "text": [
      "0\n",
      "1\n",
      "2\n",
      "3\n",
      "4\n",
      "Done!\n"
     ]
    }
   ],
   "source": [
    "#3 Exercise 10 \n",
    "uchoice = int(input(\"Enter a number: \"))\n",
    "for x in range(uchoice):\n",
    "    print(x)\n",
    "print(\"Done!\")"
   ]
  },
  {
   "cell_type": "code",
   "execution_count": null,
   "id": "6fcea440",
   "metadata": {},
   "outputs": [
    {
     "name": "stdout",
     "output_type": "stream",
     "text": [
      "29\n",
      "31\n",
      "37\n",
      "41\n",
      "43\n",
      "47\n"
     ]
    }
   ],
   "source": [
    "#3 Exercise 11 \n",
    "def prime(num):\n",
    "    for x in range(2, int(num ** 0.5) + 1):\n",
    "        if num % x == 0:\n",
    "            return False\n",
    "    return True\n",
    "\n",
    "for i in range (25, 50):\n",
    "    if prime(i):\n",
    "        print(i)"
   ]
  },
  {
   "cell_type": "code",
   "execution_count": 77,
   "id": "d05a01d8",
   "metadata": {},
   "outputs": [
    {
     "name": "stdout",
     "output_type": "stream",
     "text": [
      "0 1 1 2 3 5 8 13 21 34 \n"
     ]
    }
   ],
   "source": [
    "#3 Exercise 12 \n",
    "n = int(input(\"Enter a number: \"))\n",
    "a = 0 \n",
    "b = 1\n",
    "for x in range(n):\n",
    "    print(a, end = ' ')\n",
    "    a, b = b, a+b \n",
    "print()"
   ]
  },
  {
   "cell_type": "code",
   "execution_count": 86,
   "id": "609b7de6",
   "metadata": {},
   "outputs": [
    {
     "name": "stdout",
     "output_type": "stream",
     "text": [
      "4! = 24\n"
     ]
    }
   ],
   "source": [
    "#3 Exercise 13 \n",
    "n = int(input(\"Enter a number: \"))\n",
    "m = 1\n",
    "for x in range(1, n+1):\n",
    "    m = m * x \n",
    "print(f'{n}! = {m}')"
   ]
  },
  {
   "cell_type": "code",
   "execution_count": null,
   "id": "e3e00698",
   "metadata": {},
   "outputs": [
    {
     "name": "stdout",
     "output_type": "stream",
     "text": [
      "[2, 2, 5]\n"
     ]
    }
   ],
   "source": [
    "#4 Return uncommon elements of lists \n",
    "#list1 = [1, 1, 2]\n",
    "#list2 = [2, 3, 4] \n",
    "#list1 = [1, 2, 3]\n",
    "#list2 = [4, 5, 6]\n",
    "list1 = [1, 1, 2, 3, 4, 2]\n",
    "list2 = [1, 3, 4, 5]\n",
    "\n",
    "ncommon = []\n",
    "for x in list1:\n",
    "    if x not in list2:\n",
    "        ncommon.append(x)\n",
    "for y in list2:\n",
    "    if y not in list1:\n",
    "        ncommon.append(y) \n",
    "    \n",
    "print(ncommon)"
   ]
  }
 ],
 "metadata": {
  "kernelspec": {
   "display_name": "Python 3",
   "language": "python",
   "name": "python3"
  },
  "language_info": {
   "codemirror_mode": {
    "name": "ipython",
    "version": 3
   },
   "file_extension": ".py",
   "mimetype": "text/x-python",
   "name": "python",
   "nbconvert_exporter": "python",
   "pygments_lexer": "ipython3",
   "version": "3.13.2"
  }
 },
 "nbformat": 4,
 "nbformat_minor": 5
}
