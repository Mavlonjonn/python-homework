{
 "cells": [
  {
   "cell_type": "code",
   "execution_count": null,
   "id": "06cf537b",
   "metadata": {},
   "outputs": [],
   "source": [
    "#Modify string with underscores \n",
    "txt = list(input(\"Enter string value: \"))\n",
    "vowels = 'aeiou'\n",
    "\n",
    "l = []\n",
    "for x in txt:\n",
    "    l.append(x) \n",
    "x = 3 \n",
    "while x < len(txt):\n",
    "    if l[x-1] in vowels or l[x-1] == '_':\n",
    "        x += 1\n",
    "    l.insert(x, '_')\n",
    "    x+=4 \n",
    "print(''.join(l))\n"
   ]
  },
  {
   "cell_type": "code",
   "execution_count": null,
   "id": "69140227",
   "metadata": {},
   "outputs": [
    {
     "name": "stdout",
     "output_type": "stream",
     "text": [
      "0\n",
      "1\n",
      "4\n",
      "9\n",
      "16\n"
     ]
    }
   ],
   "source": [
    "#Integer Squares Exercise \n",
    "st = int(input(\"Enter an integer value: \")) \n",
    "for x in range(st):\n",
    "    print(x*x)"
   ]
  },
  {
   "cell_type": "code",
   "execution_count": null,
   "id": "bcaf15fa",
   "metadata": {},
   "outputs": [
    {
     "name": "stdout",
     "output_type": "stream",
     "text": [
      "1\n",
      "2\n",
      "3\n",
      "4\n",
      "5\n",
      "6\n",
      "7\n",
      "8\n",
      "9\n"
     ]
    }
   ],
   "source": [
    "#3: Exercise 1 \n",
    "n = 1\n",
    "while n<10:\n",
    "    print(n) \n",
    "    n += 1\n",
    "\n"
   ]
  },
  {
   "cell_type": "code",
   "execution_count": 5,
   "id": "59219bb7",
   "metadata": {},
   "outputs": [
    {
     "name": "stdout",
     "output_type": "stream",
     "text": [
      "[1]\n",
      "[1, 2]\n",
      "[1, 2, 3]\n",
      "[1, 2, 3, 4]\n",
      "[1, 2, 3, 4, 5]\n",
      "[1, 2, 3, 4, 5, 6]\n",
      "[1, 2, 3, 4, 5, 6, 7]\n",
      "[1, 2, 3, 4, 5, 6, 7, 8]\n",
      "[1, 2, 3, 4, 5, 6, 7, 8, 9]\n"
     ]
    }
   ],
   "source": [
    "#3 Exercise 2 \n",
    "n = 1 \n",
    "t = []\n",
    "while n < 10:\n",
    "    t.append(n) \n",
    "    n += 1\n",
    "    print(t) \n"
   ]
  },
  {
   "cell_type": "code",
   "execution_count": 7,
   "id": "2d7033db",
   "metadata": {},
   "outputs": [
    {
     "name": "stdout",
     "output_type": "stream",
     "text": [
      "15\n"
     ]
    }
   ],
   "source": [
    "#3 Exercise 3 \n",
    "n = int(input(\"Enter a number: \")) \n",
    "s = 0\n",
    "for x in range(n+1):\n",
    "    s = s + x \n",
    "print(s)"
   ]
  },
  {
   "cell_type": "code",
   "execution_count": 13,
   "id": "4552ed66",
   "metadata": {},
   "outputs": [
    {
     "name": "stdout",
     "output_type": "stream",
     "text": [
      "2\n",
      "4\n",
      "6\n",
      "8\n",
      "10\n",
      "12\n",
      "14\n",
      "16\n",
      "18\n",
      "20\n",
      "22\n",
      "24\n",
      "26\n",
      "28\n",
      "30\n",
      "32\n",
      "34\n",
      "36\n",
      "38\n",
      "40\n"
     ]
    }
   ],
   "source": [
    "#3 Exercise 4 \n",
    "n = int(input(\"Enter a number: \")) \n",
    "for x in range(1, 21):\n",
    "    print(x*n)\n"
   ]
  },
  {
   "cell_type": "code",
   "execution_count": 26,
   "id": "e81f1c47",
   "metadata": {},
   "outputs": [
    {
     "name": "stdout",
     "output_type": "stream",
     "text": [
      "12\n",
      "75\n",
      "150\n",
      "180\n",
      "145\n",
      "525\n",
      "50\n"
     ]
    }
   ],
   "source": [
    "#3 Exercise 5 \n",
    "numbers = [12, 75, 150, 180, 145, 525, 50] \n",
    "for x in numbers:\n",
    "    print(x)"
   ]
  },
  {
   "cell_type": "code",
   "execution_count": 41,
   "id": "953b45b4",
   "metadata": {},
   "outputs": [
    {
     "name": "stdout",
     "output_type": "stream",
     "text": [
      "4\n"
     ]
    }
   ],
   "source": [
    "#3 Exercise 6 \n",
    "l = input(\"Enter a number: \")\n",
    "if l.isdigit():\n",
    "    print(len(l))\n",
    "else:\n",
    "    print(\"Enter a number!\") "
   ]
  },
  {
   "cell_type": "code",
   "execution_count": null,
   "id": "4cf02af6",
   "metadata": {},
   "outputs": [],
   "source": [
    "#3 Exercise 7 \n",
    "l = input(\"Enter a number: \") \n",
    "t = []\n",
    "for x in l:\n",
    "    t.append(x)\n",
    "\n",
    "\n",
    "\n"
   ]
  }
 ],
 "metadata": {
  "kernelspec": {
   "display_name": "Python 3",
   "language": "python",
   "name": "python3"
  },
  "language_info": {
   "codemirror_mode": {
    "name": "ipython",
    "version": 3
   },
   "file_extension": ".py",
   "mimetype": "text/x-python",
   "name": "python",
   "nbconvert_exporter": "python",
   "pygments_lexer": "ipython3",
   "version": "3.13.2"
  }
 },
 "nbformat": 4,
 "nbformat_minor": 5
}
