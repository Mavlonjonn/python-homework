{
 "cells": [
  {
   "cell_type": "code",
   "execution_count": null,
   "id": "992f1593",
   "metadata": {},
   "outputs": [
    {
     "name": "stdout",
     "output_type": "stream",
     "text": [
      "False\n"
     ]
    }
   ],
   "source": [
    "#1 Is_prime function \n",
    "def is_prime(num):\n",
    "    if num < 2:\n",
    "        print('Enter integer number above 1: ')\n",
    "        return False\n",
    "    for x in range(2, int(num ** 0.5) + 1):\n",
    "        if num % x == 0:\n",
    "            return False\n",
    "    return True\n",
    "\n",
    "uchoice = int(input(\"Enter a number: \"))\n",
    "if is_prime(uchoice) == True:\n",
    "    print('True')\n",
    "else:\n",
    "    print('False') "
   ]
  },
  {
   "cell_type": "code",
   "execution_count": null,
   "id": "9fca8b02",
   "metadata": {},
   "outputs": [
    {
     "name": "stdout",
     "output_type": "stream",
     "text": [
      "0\n"
     ]
    }
   ],
   "source": [
    "#2 Digit_sum(k) function \n",
    "unum = input(\"Enter a number: \")\n",
    "s = 0\n",
    "if unum.isdigit():\n",
    "    for x in unum:\n",
    "        s = s + int(x)\n",
    "print(s)"
   ]
  },
  {
   "cell_type": "code",
   "execution_count": null,
   "id": "1935e0d8",
   "metadata": {},
   "outputs": [
    {
     "name": "stdout",
     "output_type": "stream",
     "text": [
      "2\n",
      "4\n",
      "8\n",
      "\n"
     ]
    }
   ],
   "source": [
    "#3 Power of 2 in the given range \n",
    "n = int(input(\"Enter a number: \"))\n",
    "base = 2 \n",
    "power = 1 \n",
    "result = base ** power \n",
    "\n",
    "while result < n:\n",
    "    print(result)\n",
    "    power += 1 \n",
    "    result = base ** power \n",
    "print()"
   ]
  }
 ],
 "metadata": {
  "kernelspec": {
   "display_name": "Python 3",
   "language": "python",
   "name": "python3"
  },
  "language_info": {
   "codemirror_mode": {
    "name": "ipython",
    "version": 3
   },
   "file_extension": ".py",
   "mimetype": "text/x-python",
   "name": "python",
   "nbconvert_exporter": "python",
   "pygments_lexer": "ipython3",
   "version": "3.13.2"
  }
 },
 "nbformat": 4,
 "nbformat_minor": 5
}
