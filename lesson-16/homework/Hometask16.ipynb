{
 "cells": [
  {
   "cell_type": "code",
   "execution_count": 247,
   "id": "1010294f",
   "metadata": {},
   "outputs": [
    {
     "name": "stdout",
     "output_type": "stream",
     "text": [
      "[ 12.23  13.32 100.    36.32]\n",
      "1\n"
     ]
    }
   ],
   "source": [
    "#Q1 list to 1d array \n",
    "import numpy as np\n",
    "list = [12.23, 13.32, 100, 36.32]\n",
    "\n",
    "nd_array = np.array(list)\n",
    "print(nd_array)\n",
    "print(nd_array.ndim) #this shows the dimension of the array "
   ]
  },
  {
   "cell_type": "code",
   "execution_count": 16,
   "id": "259e35c5",
   "metadata": {},
   "outputs": [
    {
     "data": {
      "text/plain": [
       "array([[ 2,  3,  4],\n",
       "       [ 5,  6,  7],\n",
       "       [ 8,  9, 10]])"
      ]
     },
     "execution_count": 16,
     "metadata": {},
     "output_type": "execute_result"
    }
   ],
   "source": [
    "#Q2 3x3 matrix \n",
    "import numpy as np \n",
    "\n",
    "matrix = np.arange(2, 11).reshape(3,3)\n",
    "matrix "
   ]
  },
  {
   "cell_type": "code",
   "execution_count": 20,
   "id": "ce0f8cc0",
   "metadata": {},
   "outputs": [
    {
     "name": "stdout",
     "output_type": "stream",
     "text": [
      "[0. 0. 0. 0. 0. 0. 0. 0. 0. 0.]\n",
      "[ 0.  0.  0.  0.  0. 11.  0.  0.  0.  0.]\n"
     ]
    }
   ],
   "source": [
    "#Q3 Null vector \n",
    "import numpy as np \n",
    "eleventh_zero = np.zeros(10) #this displays 1d array filled with zeros\n",
    "print(eleventh_zero)\n",
    "eleventh_zero[5] = 11 #this will update the 6th value to 11\n",
    "print(eleventh_zero)"
   ]
  },
  {
   "cell_type": "code",
   "execution_count": 27,
   "id": "537e68b3",
   "metadata": {},
   "outputs": [
    {
     "name": "stdout",
     "output_type": "stream",
     "text": [
      "[12 13 14 15 16 17 18 19 20 21 22 23 24 25 26 27 28 29 30 31 32 33 34 35\n",
      " 36 37]\n"
     ]
    }
   ],
   "source": [
    "#Q4 Array from 12 to 38 \n",
    "import numpy as np \n",
    "\n",
    "arr = np.arange(12, 38)\n",
    "print(arr)"
   ]
  },
  {
   "cell_type": "code",
   "execution_count": 42,
   "id": "0cefc7aa",
   "metadata": {},
   "outputs": [
    {
     "name": "stdout",
     "output_type": "stream",
     "text": [
      "[1 2 3 4]\n",
      "int64\n",
      "[1. 2. 3. 4.]\n",
      "float64\n"
     ]
    }
   ],
   "source": [
    "#Q5 Converting from Array to Float type \n",
    "import numpy as np \n",
    "\n",
    "arr = np.array([1, 2, 3, 4]) #original array with int type \n",
    "print(arr) \n",
    "print(arr.dtype)\n",
    "\n",
    "float_type_arr = arr.astype(float) #float type array \n",
    "print(float_type_arr)\n",
    "print(float_type_arr.dtype)"
   ]
  },
  {
   "cell_type": "code",
   "execution_count": 54,
   "id": "539bfe78",
   "metadata": {},
   "outputs": [
    {
     "name": "stdout",
     "output_type": "stream",
     "text": [
      "Temperature in farenheit: [ 32.     53.6   113.378  93.2   211.838]\n",
      "Temperature in farenheit: [-4.0000e-03  1.2002e+01  4.5212e+01  3.3998e+01  9.9914e+01  3.2000e+01]\n"
     ]
    }
   ],
   "source": [
    "#Q6 Celcius to Farenheit \n",
    "import numpy as np \n",
    "\n",
    "#defining the arrays \n",
    "sample_arr = [0, 12, 45.21, 34, 99.91] \n",
    "sample_arr1 = [-17.78, -11.11, 7.34, 1.11, 37.73, 0. ]\n",
    "\n",
    "#converting from celcius to farenheit\n",
    "celcius = np.array(sample_arr)\n",
    "farenheit = (celcius * 9/5) + 32 \n",
    "print(f'Temperature in farenheit: {farenheit}') #printing part \n",
    "\n",
    "celcius1 = np.array(sample_arr1)\n",
    "farenheit1 = (celcius1 * 9/5) +32 \n",
    "print(f'Temperature in farenheit: {farenheit1}') #printing part "
   ]
  },
  {
   "cell_type": "code",
   "execution_count": 63,
   "id": "acdf8cf1",
   "metadata": {},
   "outputs": [
    {
     "name": "stdout",
     "output_type": "stream",
     "text": [
      "[10 20 30]\n",
      "[10 20 30 40 50 60 70 80 90]\n"
     ]
    }
   ],
   "source": [
    "#Q7 Appending values to array \n",
    "import numpy as np \n",
    "\n",
    "arr = np.array([10, 20, 30]) #original array \n",
    "print(arr) \n",
    "\n",
    "app_val = np.arange(40, 100, 10)\n",
    "appended_arr = np.append(arr, app_val) #appended array \n",
    "print(appended_arr) "
   ]
  },
  {
   "cell_type": "code",
   "execution_count": 172,
   "id": "a67af5c6",
   "metadata": {},
   "outputs": [
    {
     "name": "stdout",
     "output_type": "stream",
     "text": [
      "[20 14 72 16 77 85  2 38 81 77]\n",
      "Mean value: 48.2\n",
      "Median value: 55.0\n",
      "Standard deviation: 31.457272609048612\n"
     ]
    }
   ],
   "source": [
    "#Q8 Array statistical functions \n",
    "import numpy as np \n",
    "\n",
    "random_array = np.random.randint(1, 100, 10) #original array of numbers \n",
    "print(random_array)\n",
    "\n",
    "mean_value = np.mean(random_array)\n",
    "print(f'Mean value: {mean_value}')\n",
    "\n",
    "median_value= np.median(random_array)\n",
    "print(f'Median value: {median_value}') \n",
    "\n",
    "standard_deviation = np.std(random_array)\n",
    "print(f'Standard deviation: {standard_deviation}')"
   ]
  },
  {
   "cell_type": "code",
   "execution_count": 215,
   "id": "19f61f9c",
   "metadata": {},
   "outputs": [
    {
     "name": "stdout",
     "output_type": "stream",
     "text": [
      "Minimum value = -2.603644852746531\n",
      "Maximum value = 1.3529699610880985\n"
     ]
    }
   ],
   "source": [
    "#Q9 Min and Max values in array \n",
    "import numpy as np \n",
    "\n",
    "random_array = np.random.randn(10, 10)\n",
    "#print(random_array)\n",
    "\n",
    "min_arr = np.min(random_array)\n",
    "print(f'Minimum value = {min_arr}')\n",
    "\n",
    "max_arr = np.max(random_array)\n",
    "print(f'Maximum value = {max_arr}')"
   ]
  },
  {
   "cell_type": "code",
   "execution_count": 246,
   "id": "44af553d",
   "metadata": {},
   "outputs": [
    {
     "name": "stdout",
     "output_type": "stream",
     "text": [
      "[[[-1.02697191  0.23211694 -0.18114694]\n",
      "  [ 0.73274842 -0.1910422  -0.69907732]\n",
      "  [-1.79854467 -1.69377438  0.46930513]]\n",
      "\n",
      " [[ 1.70264342 -1.26546063 -0.36241912]\n",
      "  [-1.11519546 -0.03380963 -1.74959618]\n",
      "  [-2.54170424 -2.15908643 -1.16867437]]\n",
      "\n",
      " [[ 0.66301778 -1.13401129  0.54179616]\n",
      "  [-0.22029099  1.26913069  0.03046501]\n",
      "  [-0.44612501  0.31476087  0.66566472]]]\n"
     ]
    }
   ],
   "source": [
    "#Q10 3x3x3 array with random values \n",
    "import numpy as np\n",
    "\n",
    "ran_values = np.random.randn(3, 3, 3)\n",
    "print(ran_values)"
   ]
  }
 ],
 "metadata": {
  "kernelspec": {
   "display_name": "Python 3",
   "language": "python",
   "name": "python3"
  },
  "language_info": {
   "codemirror_mode": {
    "name": "ipython",
    "version": 3
   },
   "file_extension": ".py",
   "mimetype": "text/x-python",
   "name": "python",
   "nbconvert_exporter": "python",
   "pygments_lexer": "ipython3",
   "version": "3.13.2"
  }
 },
 "nbformat": 4,
 "nbformat_minor": 5
}
