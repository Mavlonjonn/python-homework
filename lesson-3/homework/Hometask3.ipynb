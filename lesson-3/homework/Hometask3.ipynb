{
 "cells": [
  {
   "cell_type": "code",
   "execution_count": 1,
   "metadata": {},
   "outputs": [
    {
     "name": "stdout",
     "output_type": "stream",
     "text": [
      "dates\n"
     ]
    }
   ],
   "source": [
    "#list of elements \n",
    "f = ['apple', 'peach', 'dates', 'cherry', 'raspberry']\n",
    "print(f[2]) "
   ]
  },
  {
   "cell_type": "code",
   "execution_count": 3,
   "metadata": {},
   "outputs": [
    {
     "name": "stdout",
     "output_type": "stream",
     "text": [
      "[12, 45, 964, 123, 44, 86, 58, 62, 42, 361, 1, 32]\n"
     ]
    }
   ],
   "source": [
    "#concatenate lists \n",
    "l1 = [12, 45, 964, 123, 44, 86]\n",
    "l2 = [58, 62, 42, 361, 1, 32]\n",
    "l1.extend(l2)\n",
    "print(l1)\n"
   ]
  },
  {
   "cell_type": "code",
   "execution_count": 4,
   "metadata": {},
   "outputs": [
    {
     "name": "stdout",
     "output_type": "stream",
     "text": [
      "[12, 25, 48, 58]\n"
     ]
    }
   ],
   "source": [
    "#store first, middle, last elements of the list in new list \n",
    "\n",
    "num = [12, 36, 25, 48, 96, 58]\n",
    "if len(num)%2 != 0:\n",
    "    new_num = [num[0], num[len(num)//2], num[::-1][0]]\n",
    "else:\n",
    "    new_num = [num[0], num[len(num)//2-1], num[len(num)//2], num[::-1][0]] \n",
    "print(new_num)"
   ]
  },
  {
   "cell_type": "code",
   "execution_count": 6,
   "metadata": {},
   "outputs": [
    {
     "name": "stdout",
     "output_type": "stream",
     "text": [
      "<class 'list'>\n",
      "<class 'tuple'>\n",
      "('Avatar', 'Titanic', 'Interstellar', 'The Count of Monte Cristo', 'Nezha')\n"
     ]
    }
   ],
   "source": [
    "#from list to tuple \n",
    "movies = ['Avatar', 'Titanic', 'Interstellar', 'The Count of Monte Cristo', 'Nezha']\n",
    "print(type(movies))\n",
    "t = tuple(movies)\n",
    "print(type(t))\n",
    "print(t)\n"
   ]
  },
  {
   "cell_type": "code",
   "execution_count": 7,
   "metadata": {},
   "outputs": [
    {
     "name": "stdout",
     "output_type": "stream",
     "text": [
      "It is not in the given list\n"
     ]
    }
   ],
   "source": [
    "#check whether city is in the list \n",
    "cities = ['Tashkent', 'London', 'Washington', 'Leeds', 'Edinburgh']\n",
    "if 'Paris' in cities:\n",
    "    print('Yes, it is in the list')\n",
    "else:\n",
    "    print('It is not in the given list')"
   ]
  },
  {
   "cell_type": "code",
   "execution_count": 8,
   "metadata": {},
   "outputs": [
    {
     "name": "stdout",
     "output_type": "stream",
     "text": [
      "[1, 2, 3, 4, 5, 6, 7, 8, 9, 1, 2, 3, 4, 5, 6, 7, 8, 9]\n"
     ]
    }
   ],
   "source": [
    "#duplicate without loops \n",
    "numbers = [1, 2, 3, 4, 5, 6, 7, 8, 9] \n",
    "new_numbers = numbers.copy()\n",
    "numbers.extend(new_numbers)\n",
    "print(numbers)"
   ]
  },
  {
   "cell_type": "code",
   "execution_count": 9,
   "metadata": {},
   "outputs": [
    {
     "name": "stdout",
     "output_type": "stream",
     "text": [
      "[9, 2, 3, 4, 5, 6, 7, 8, 1]\n"
     ]
    }
   ],
   "source": [
    "#swap the first and the last elements\n",
    "numb = [1, 2, 3, 4, 5, 6, 7, 8, 9] \n",
    "numb[0], numb[-1] = numb[-1], numb[0]\n",
    "print(numb)"
   ]
  },
  {
   "cell_type": "code",
   "execution_count": 10,
   "metadata": {},
   "outputs": [
    {
     "name": "stdout",
     "output_type": "stream",
     "text": [
      "<class 'tuple'>\n"
     ]
    },
    {
     "data": {
      "text/plain": [
       "(4, 5, 6, 7)"
      ]
     },
     "execution_count": 10,
     "metadata": {},
     "output_type": "execute_result"
    }
   ],
   "source": [
    "#slice a tuple \n",
    "tnum = (1, 2, 3, 4, 5, 6, 7, 8, 9, 10)\n",
    "print(type(tnum))\n",
    "tnum[3:7]\n"
   ]
  },
  {
   "cell_type": "code",
   "execution_count": 15,
   "metadata": {},
   "outputs": [
    {
     "data": {
      "text/plain": [
       "2"
      ]
     },
     "execution_count": 15,
     "metadata": {},
     "output_type": "execute_result"
    }
   ],
   "source": [
    "#count blue \n",
    "colors = [\"Blue\", \"Red\", \"Green\", \"Yellow\", \"Orange\", \"Purple\", \"Pink\", \"Brown\", \"Black\", \"White\", \"Gray\", \"Blue\", \"Red\", \"Green\", \"Yellow\"] \n",
    "colors.count('Blue')"
   ]
  },
  {
   "cell_type": "code",
   "execution_count": 16,
   "metadata": {},
   "outputs": [
    {
     "data": {
      "text/plain": [
       "7"
      ]
     },
     "execution_count": 16,
     "metadata": {},
     "output_type": "execute_result"
    }
   ],
   "source": [
    "#next index in a tuple \n",
    "animals = (\"Tiger\", \"Bear\", \"Wolf\", \"Fox\", \"Elephant\", \"Giraffe\", \"Zebra\", \"Lion\", \"Tiger\", \"Deer\", \"Rabbit\", \"Fox\", \"Eagle\", \"Owl\") \n",
    "animals.index('Lion')"
   ]
  },
  {
   "cell_type": "code",
   "execution_count": 17,
   "metadata": {},
   "outputs": [
    {
     "name": "stdout",
     "output_type": "stream",
     "text": [
      "(1, 2, 3, 4, 5, 6, 7, 8, 9, 11, 12, 13, 14, 15, 16, 17, 18, 19)\n"
     ]
    }
   ],
   "source": [
    "#merging two tuples \n",
    "n1 = (1, 2, 3, 4, 5, 6, 7 ,8, 9)\n",
    "n2 = (11, 12, 13, 14, 15, 16, 17, 18, 19)\n",
    "n3 = n1 + n2\n",
    "print(n3)"
   ]
  },
  {
   "cell_type": "code",
   "execution_count": null,
   "metadata": {},
   "outputs": [
    {
     "name": "stdout",
     "output_type": "stream",
     "text": [
      "9\n",
      "9\n"
     ]
    }
   ],
   "source": [
    "#length of tuple and list \n",
    "tup = (12, 2, 3, 4, 5, 6, 7 ,8, 9)\n",
    "lis = [21, 2, 3, 4, 5, 6, 7 ,8, 9]\n",
    "\n",
    "print(len(tup))\n",
    "print(len(lis))"
   ]
  },
  {
   "cell_type": "code",
   "execution_count": 18,
   "metadata": {},
   "outputs": [
    {
     "name": "stdout",
     "output_type": "stream",
     "text": [
      "<class 'tuple'>\n",
      "<class 'list'>\n"
     ]
    }
   ],
   "source": [
    "#from tuple to list \n",
    "tupl = (25, 2, 2005, 9, 15)\n",
    "print(type(tupl))\n",
    "l = list(tupl)\n",
    "print(type(l))"
   ]
  },
  {
   "cell_type": "code",
   "execution_count": 19,
   "metadata": {},
   "outputs": [
    {
     "name": "stdout",
     "output_type": "stream",
     "text": [
      "Max value: 2005 \n",
      "Min vlaue: 2\n"
     ]
    }
   ],
   "source": [
    "#max and min in a tuple \n",
    "tupl = (25, 2, 2005, 9, 15) \n",
    "print(f'Max value: {max(tupl)} \\nMin vlaue: {min(tupl)}')"
   ]
  },
  {
   "cell_type": "code",
   "execution_count": 21,
   "metadata": {},
   "outputs": [
    {
     "name": "stdout",
     "output_type": "stream",
     "text": [
      "('Blackhole', 'Cosmos', 'Planet', 'Star', 'Comet', 'Orbit', 'Rocket', 'Nebula', 'Asteroid', 'Galaxy')\n"
     ]
    }
   ],
   "source": [
    "#reverse tuple \n",
    "w = (\"Galaxy\", \"Asteroid\", \"Nebula\", \"Rocket\", \"Orbit\", \"Comet\", \"Star\", \"Planet\", \"Cosmos\", \"Blackhole\") \n",
    "print(w[::-1]) "
   ]
  }
 ],
 "metadata": {
  "kernelspec": {
   "display_name": "Python 3",
   "language": "python",
   "name": "python3"
  },
  "language_info": {
   "codemirror_mode": {
    "name": "ipython",
    "version": 3
   },
   "file_extension": ".py",
   "mimetype": "text/x-python",
   "name": "python",
   "nbconvert_exporter": "python",
   "pygments_lexer": "ipython3",
   "version": "3.13.2"
  }
 },
 "nbformat": 4,
 "nbformat_minor": 2
}
