{
 "cells": [
  {
   "cell_type": "markdown",
   "metadata": {},
   "source": [
    "Practice"
   ]
  },
  {
   "cell_type": "code",
   "execution_count": null,
   "metadata": {},
   "outputs": [],
   "source": [
    "#even or odd number\n",
    "n = int(input(\"Enter a number: \"))\n",
    "if n % 2 == 0:\n",
    "    print(\"It is an even number\")\n",
    "elif n == 0:\n",
    "    print(\"It is zero\")\n",
    "else:\n",
    "    print(\"It is an odd number\")"
   ]
  },
  {
   "cell_type": "code",
   "execution_count": 15,
   "metadata": {},
   "outputs": [
    {
     "name": "stdout",
     "output_type": "stream",
     "text": [
      "Enter a letter\n"
     ]
    }
   ],
   "source": [
    "#wovel, consonant or invalid \n",
    "c =['b', 'c', 'd', 'f', 'g', 'h', 'j', 'k', 'l', 'm', 'n', 'p', 'q', 'r', 's', 't', 'v', 'w', 'x', 'y', 'z']\n",
    "v = ['a', 'e', 'i', 'o', 'u']\n",
    "\n",
    "x = input(\"Enter a single letter: \").lower()\n",
    "if x in c:\n",
    "    print(\"Consonant\")\n",
    "elif x in v:\n",
    "    print(\"Vowel\")\n",
    "else:\n",
    "    print(\"Enter a letter\")\n",
    "\n",
    "\n",
    "y = input(\"Enter a letter\")\n",
    "v = ['a', 'e', 'i', 'o', 'u']\n",
    "if y in v:\n",
    "    print(\"vowel\")\n",
    "elif y.isalpha():\n",
    "    print(\"Consonant\")\n",
    "else:\n",
    "    print(\"Invalid\")"
   ]
  },
  {
   "cell_type": "code",
   "execution_count": null,
   "metadata": {},
   "outputs": [],
   "source": [
    "x = list[int(input(\"Enter three different numbers: \"))]\n",
    "'''for i in range(x):\n",
    "    if i == max(x):\n",
    "        print(max(i)) \n",
    "while x != None:'''\n",
    "\n",
    "if x[0] > x[1]:\n",
    "    if x[0] > x[2]:\n",
    "        print(f'{x[0]} is max')\n",
    "elif x[1] > x[0]:\n",
    "    if x[1] > x[2]:\n",
    "        print(f'{x[1]} is max')\n",
    "elif x[2] > x[1]:\n",
    "    if x[2] > x[0]:\n",
    "        print(f'{x[2]} is max')\n",
    "\n",
    "\n",
    "b = input(\"Enter 3 numbers: \").split()\n",
    "a = []"
   ]
  },
  {
   "cell_type": "code",
   "execution_count": null,
   "metadata": {},
   "outputs": [],
   "source": [
    "[i for i in a.split()]"
   ]
  },
  {
   "cell_type": "code",
   "execution_count": 33,
   "metadata": {},
   "outputs": [
    {
     "name": "stdout",
     "output_type": "stream",
     "text": [
      "Temperature is 260℃. It is really hot. Stay alarmed\n"
     ]
    }
   ],
   "source": [
    "#temperature \n",
    "#(32°F − 32) × 5/9 = 0°C\n",
    "\n",
    "t = float(input(\"Enter a temperature in Fahrenheit: \"))\n",
    "c = int((t - 32) * 5/9)\n",
    "if c < 0:\n",
    "    print(f'Temperature is below zero:{c}℃. Stay at home.')\n",
    "elif c < 15:\n",
    "    print(f'Temperature is {c}℃. Wear warm clothes and enjoy nature')\n",
    "elif c < 35:\n",
    "    print(f'Temperature is {c}℃. It is too hot. Wear your glasses and take your water bottle with you')\n",
    "elif c >=35:\n",
    "    print(f'Temperature is {c}℃. It is really hot. Stay alarmed')\n",
    "else:\n",
    "    print('Enter sensible number')"
   ]
  },
  {
   "cell_type": "code",
   "execution_count": 40,
   "metadata": {},
   "outputs": [
    {
     "name": "stdout",
     "output_type": "stream",
     "text": [
      "You will get 15% discount\n"
     ]
    }
   ],
   "source": [
    "#destinations dictionary \n",
    "destination = input(\"Enter your destination: \").split(\",\")\n",
    "d = {index: value for index, value in enumerate(destination)}\n",
    "dis = \n",
    "\n",
    "fday = input(\"What day is your flight: (Ex. Monday, ...)\").lower()\n",
    "if fday == 'sunday' or 'saturday':\n",
    "    print(\"You will get 15% discount\")\n",
    "\n"
   ]
  },
  {
   "cell_type": "code",
   "execution_count": null,
   "metadata": {},
   "outputs": [
    {
     "name": "stdout",
     "output_type": "stream",
     "text": [
      "Your salary is 950.0\n"
     ]
    }
   ],
   "source": [
    "t = int(input(\"How many hours have you worked: \"))\n",
    "ts = 40*20 + ((t-40)*1.5*20)\n",
    "if t < 40:\n",
    "    print(\"You're fired. Get out!\")\n",
    "elif t >= 40:\n",
    "    print(f'Your salary is {ts}')"
   ]
  }
 ],
 "metadata": {
  "kernelspec": {
   "display_name": "Python 3",
   "language": "python",
   "name": "python3"
  },
  "language_info": {
   "codemirror_mode": {
    "name": "ipython",
    "version": 3
   },
   "file_extension": ".py",
   "mimetype": "text/x-python",
   "name": "python",
   "nbconvert_exporter": "python",
   "pygments_lexer": "ipython3",
   "version": "3.13.2"
  }
 },
 "nbformat": 4,
 "nbformat_minor": 2
}
