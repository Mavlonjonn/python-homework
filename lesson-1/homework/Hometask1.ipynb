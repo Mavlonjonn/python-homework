{
 "cells": [
  {
   "cell_type": "code",
   "execution_count": 8,
   "metadata": {},
   "outputs": [
    {
     "name": "stdout",
     "output_type": "stream",
     "text": [
      "The Perimeter of square is 1432.5cm and the area of square is 128253.52cm²\n"
     ]
    }
   ],
   "source": [
    "#Perimeter and area of a square \n",
    "\n",
    "x = float(input(\"Enter the sidelength of the square in cm: \"))\n",
    "\n",
    "P = round(4*x, 2)\n",
    "A = round(x**2, 2) \n",
    "\n",
    "print(f'The Perimeter of square is {P}cm and the area of square is {A}cm²')\n"
   ]
  },
  {
   "cell_type": "code",
   "execution_count": 11,
   "metadata": {},
   "outputs": [
    {
     "name": "stdout",
     "output_type": "stream",
     "text": [
      "The lenght of circle is 175.93 cm\n"
     ]
    }
   ],
   "source": [
    "#Length of circle \n",
    "\n",
    "d = float(input(\"Enter the diameter of the circle in cm: \"))\n",
    "import math \n",
    "l = round(math.pi*d, 2) \n",
    "print(f'The lenght of circle is {l} cm')"
   ]
  },
  {
   "cell_type": "code",
   "execution_count": 13,
   "metadata": {},
   "outputs": [
    {
     "name": "stdout",
     "output_type": "stream",
     "text": [
      "The mean value of two numbers: 66.35\n"
     ]
    }
   ],
   "source": [
    "#Mean value of two numbers \n",
    "\n",
    "a = float(input(\"Enter the first number: \"))\n",
    "b = float(input(\"Enter the second number: \"))\n",
    "\n",
    "m = round((a+b)/2, 2)\n",
    "print(f'The mean value of two numbers: {m}') "
   ]
  },
  {
   "cell_type": "code",
   "execution_count": 15,
   "metadata": {},
   "outputs": [
    {
     "name": "stdout",
     "output_type": "stream",
     "text": [
      "The sum of numbers: 15.631267 \n",
      "Product of numbers: 40.38\n",
      "Square of the first number: 152.91\n",
      "Square of the second number: 10.66\n"
     ]
    }
   ],
   "source": [
    "#Sum, product, square of each number \n",
    "c = float(input(\"Enter the first number: \"))\n",
    "e = float(input(\"Enter the second number: \")) \n",
    "s = c + e\n",
    "pr = round(c*e, 2)\n",
    "c2 = round(c**2, 2)\n",
    "e2 = round(e**2, 2) \n",
    "print(f'''The sum of numbers: {s} \n",
    "Product of numbers: {pr}\n",
    "Square of the first number: {c2}\n",
    "Square of the second number: {e2}''')\n",
    "\n"
   ]
  }
 ],
 "metadata": {
  "kernelspec": {
   "display_name": "Python 3",
   "language": "python",
   "name": "python3"
  },
  "language_info": {
   "codemirror_mode": {
    "name": "ipython",
    "version": 3
   },
   "file_extension": ".py",
   "mimetype": "text/x-python",
   "name": "python",
   "nbconvert_exporter": "python",
   "pygments_lexer": "ipython3",
   "version": "3.13.2"
  }
 },
 "nbformat": 4,
 "nbformat_minor": 2
}
