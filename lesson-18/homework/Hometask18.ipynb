{
 "cells": [
  {
   "cell_type": "code",
   "execution_count": null,
   "id": "dd7bf9df",
   "metadata": {},
   "outputs": [],
   "source": [
    "import pyodbc \n",
    "import pandas as pd \n",
    "import sqlalchemy as sa \n",
    "\n",
    "db_url = 'mssql+pyodbc://Mavlonjon/L18?driver=SQL+Server'\n",
    "engine = sa.create_engine(db_url) \n",
    "connection = engine.connect() \n",
    "df = pd.read_csv('tackoverflow_qa.csv')\n",
    "df.head()"
   ]
  },
  {
   "cell_type": "markdown",
   "id": "8446efa3",
   "metadata": {},
   "source": [
    " Homework 2"
   ]
  },
  {
   "cell_type": "code",
   "execution_count": null,
   "id": "f2d36da0",
   "metadata": {},
   "outputs": [],
   "source": [
    "#Q1 Answer\n",
    "qs = df['creationdate'] < '2014-01-01' #filtering according to the specific requirement \n",
    "df[qs] "
   ]
  },
  {
   "cell_type": "code",
   "execution_count": null,
   "id": "8a91faed",
   "metadata": {},
   "outputs": [],
   "source": [
    "#Q2 Answer \n",
    "qs = df['score'] > 50 #all questions which have 50+ score \n",
    "df[qs]"
   ]
  },
  {
   "cell_type": "code",
   "execution_count": null,
   "id": "ec060c1a",
   "metadata": {},
   "outputs": [],
   "source": [
    "#Q3 Answer \n",
    "qs = df['score'].between(50, 100) #all questions which have score between 50 and 100  \n",
    "df[qs] "
   ]
  },
  {
   "cell_type": "code",
   "execution_count": null,
   "id": "301433e7",
   "metadata": {},
   "outputs": [],
   "source": [
    "#Q4 Answer \n",
    "qs = df['ans_name'] == 'Scott Boston' #Questions answered by Scott Boston only \n",
    "df[qs]"
   ]
  },
  {
   "cell_type": "code",
   "execution_count": null,
   "id": "2741b66f",
   "metadata": {},
   "outputs": [],
   "source": [
    "#Q5 Answer \n",
    "names = ['BrenBarn', 'Ngure Nyaga', 'Andy Hayden', 'unutbu', 'HYRY'] #Answered only by 5 students \n",
    "queryfor = \"ans_name in @names\"\n",
    "df.query(queryfor) "
   ]
  },
  {
   "cell_type": "code",
   "execution_count": null,
   "id": "14ad6e68",
   "metadata": {},
   "outputs": [],
   "source": [
    "#Q6 Answer \n",
    "cr_time = df['creationdate'].between('2014-03-01', '2014-10-31') #created between March 2014 and October 2014 \n",
    "cr_name = df['ans_name'] == 'unutbu' #answered by unutbu only \n",
    "cr_score = df['score'] < 5 #having score less than 5 \n",
    "\n",
    "cr_final = cr_time & cr_name & cr_score \n",
    "df[cr_final]\n"
   ]
  },
  {
   "cell_type": "code",
   "execution_count": null,
   "id": "1fc6c711",
   "metadata": {},
   "outputs": [],
   "source": [
    "#Q7 Answer \n",
    "cr_score = df['score'].between(5, 10) #having score between 5 and 10 \n",
    "cr_view = df['viewcount'] > 10000 #having more than 10000 views \n",
    "\n",
    "cr_final = cr_score | cr_view \n",
    "df[cr_final]"
   ]
  },
  {
   "cell_type": "code",
   "execution_count": null,
   "id": "893f97ff",
   "metadata": {},
   "outputs": [],
   "source": [
    "#Q8 Answer \n",
    "questions = df['ans_name'] != 'Scott Boston' #all questions not answered by Scott Boston\n",
    "df[questions]"
   ]
  },
  {
   "cell_type": "markdown",
   "id": "92bff48d",
   "metadata": {},
   "source": [
    "Homework 3"
   ]
  },
  {
   "cell_type": "code",
   "execution_count": null,
   "id": "57533487",
   "metadata": {},
   "outputs": [],
   "source": [
    "titanic_df = pd.read_csv('titanic.csv')\n",
    "titanic_df.head()"
   ]
  },
  {
   "cell_type": "code",
   "execution_count": null,
   "id": "c94b1a8e",
   "metadata": {},
   "outputs": [],
   "source": [
    "#Q1 Answer \n",
    "cr_gen = titanic_df['Sex'] == 'female' #only females \n",
    "cr_class = titanic_df['Pclass'] == 1 #only passengers of Class 1 \n",
    "cr_age = titanic_df['Age'].between(20, 30) #passengers with age between 20 and 30 \n",
    "\n",
    "cr_final = cr_gen & cr_class & cr_age\n",
    "titanic_df[cr_final]"
   ]
  },
  {
   "cell_type": "code",
   "execution_count": null,
   "id": "4790285d",
   "metadata": {},
   "outputs": [],
   "source": [
    "#Q2 Answer \n",
    "greater_fare = titanic_df['Fare'] > 100 #passengers who paid more than $100 for fare \n",
    "titanic_df[greater_fare]"
   ]
  },
  {
   "cell_type": "code",
   "execution_count": null,
   "id": "c23c5fad",
   "metadata": {},
   "outputs": [],
   "source": [
    "#Q3 Answer \n",
    "passenger = titanic_df['Survived'] == 1 #survived passengers \n",
    "sibling_spouse = titanic_df['SibSp'] == 0 #passengers with no siblings or spouse \n",
    "parent_child = titanic_df['Parch'] == 0 #passengers with no parent or child\n",
    "\n",
    "pass_final = passenger & sibling_spouse & parent_child \n",
    "titanic_df[pass_final]"
   ]
  },
  {
   "cell_type": "code",
   "execution_count": null,
   "id": "45d98692",
   "metadata": {},
   "outputs": [],
   "source": [
    "#Q4 Answer \n",
    "cr_embarked = titanic_df['Embarked'] == 'C' #passengers embarked from C port  \n",
    "cr_paid = titanic_df['Fare'] > 50 #passengers who paid more than $50 fare \n",
    "\n",
    "cr_final = cr_embarked & cr_paid \n",
    "titanic_df[cr_final]"
   ]
  },
  {
   "cell_type": "code",
   "execution_count": null,
   "id": "af081ac2",
   "metadata": {},
   "outputs": [],
   "source": [
    "#Q5 Answer \n",
    "parent_child = titanic_df['Parch'] != 0 #passengers with parent or child abroad \n",
    "sibling_spouse = titanic_df['SibSp'] != 0 #passengers with siblings or spouse abroad \n",
    "\n",
    "pass_final = parent_child & sibling_spouse \n",
    "titanic_df[pass_final]"
   ]
  },
  {
   "cell_type": "code",
   "execution_count": null,
   "id": "9bc4131c",
   "metadata": {},
   "outputs": [],
   "source": [
    "#Q6 Answer \n",
    "passenger = titanic_df['Age'] <= 15 #passengers at age 15 or below  \n",
    "survival = titanic_df['Survived'] == 0 #passengers survived \n",
    "\n",
    "pass_final = passenger & survival \n",
    "titanic_df[pass_final] "
   ]
  },
  {
   "cell_type": "code",
   "execution_count": null,
   "id": "5ef10c25",
   "metadata": {},
   "outputs": [],
   "source": [
    "#Q7 Answer \n",
    "cabin = titanic_df['Cabin'].notna() #passengers who had exact cabins \n",
    "fare = titanic_df['Fare'] > 200 #passengers paid more than $200 for fare \n",
    "\n",
    "final = cabin & fare \n",
    "titanic_df[final]"
   ]
  },
  {
   "cell_type": "code",
   "execution_count": null,
   "id": "7bf17a23",
   "metadata": {},
   "outputs": [],
   "source": [
    "#Q8 Answer \n",
    "pass_id = titanic_df['PassengerId'] % 2 != 0 #passengers with odd PassengerIds \n",
    "titanic_df[pass_id]"
   ]
  },
  {
   "cell_type": "code",
   "execution_count": null,
   "id": "3655e459",
   "metadata": {},
   "outputs": [],
   "source": [
    "#Q9 Answer \n",
    "ticket_count = titanic_df['Ticket'].value_counts() #passengers with unique ticket numbers  \n",
    "u_ticket = ticket_count[ticket_count == 1].index \n",
    "\n",
    "titanic_df[titanic_df['Ticket'].isin(u_ticket)]"
   ]
  },
  {
   "cell_type": "code",
   "execution_count": null,
   "id": "c56dd854",
   "metadata": {},
   "outputs": [],
   "source": [
    "#Q10 Answer \n",
    "passenger_class = titanic_df['Pclass'] == 1 #passengers on Class 1 \n",
    "passenger_gender = titanic_df['Sex'] == 'female' #female passengers\n",
    "passenger_name = titanic_df['Name'].str.contains('Miss') #passengers with 'Miss' in their name \n",
    "\n",
    "passenger_final = passenger_class & passenger_gender & passenger_name \n",
    "titanic_df[passenger_final]"
   ]
  }
 ],
 "metadata": {
  "kernelspec": {
   "display_name": "Python 3",
   "language": "python",
   "name": "python3"
  },
  "language_info": {
   "codemirror_mode": {
    "name": "ipython",
    "version": 3
   },
   "file_extension": ".py",
   "mimetype": "text/x-python",
   "name": "python",
   "nbconvert_exporter": "python",
   "pygments_lexer": "ipython3",
   "version": "3.13.2"
  }
 },
 "nbformat": 4,
 "nbformat_minor": 5
}
