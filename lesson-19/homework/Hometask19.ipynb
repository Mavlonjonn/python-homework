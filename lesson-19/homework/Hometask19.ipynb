{
 "cells": [
  {
   "cell_type": "markdown",
   "id": "68293832",
   "metadata": {},
   "source": [
    "## Homework 1"
   ]
  },
  {
   "cell_type": "code",
   "execution_count": 11,
   "id": "a5408ffa",
   "metadata": {},
   "outputs": [
    {
     "name": "stdout",
     "output_type": "stream",
     "text": [
      "Category Statistics:\n",
      "             Total Quantity  Average Price  Max Quantity\n",
      "Category                                                \n",
      "Clothing                157      31.176471            15\n",
      "Electronics             183     276.764706            15\n",
      "Home                    144      55.000000            14\n"
     ]
    }
   ],
   "source": [
    "#Q1 Group by and aggregate statistics\n",
    "import pandas as pd\n",
    "\n",
    "sales_data = pd.read_csv('sales_data.csv') #loading data from csv file \n",
    "\n",
    "grouped = sales_data.groupby('Category')\n",
    "total_quantity = grouped['Quantity'].sum()  # Total quantity sold per category\n",
    "average_price = grouped['Price'].mean()     # Average price per unit per category\n",
    "max_quantity = grouped['Quantity'].max()    # Maximum quantity in a single transaction per category\n",
    "\n",
    "category_stats = pd.DataFrame({\n",
    "    'Total Quantity': total_quantity,\n",
    "    'Average Price': average_price,\n",
    "    'Max Quantity': max_quantity\n",
    "})\n",
    "print(\"Category Statistics:\") #printing combined statistics \n",
    "print(category_stats)"
   ]
  },
  {
   "cell_type": "code",
   "execution_count": 12,
   "id": "0070349c",
   "metadata": {},
   "outputs": [
    {
     "name": "stdout",
     "output_type": "stream",
     "text": [
      "\n",
      "Top-Selling Products by Category:\n",
      "       Category          Product  Quantity\n",
      "8      Clothing            Jeans        15\n",
      "27  Electronics         Smart TV        15\n",
      "46         Home  Pressure Cooker        14\n"
     ]
    }
   ],
   "source": [
    "#Q2 Top-selling product \n",
    "product_sales = sales_data.groupby(['Category', 'Product'])['Quantity'].sum().reset_index()\n",
    "top_products = product_sales.loc[product_sales.groupby('Category')['Quantity'].idxmax()]\n",
    "print(\"\\nTop-Selling Products by Category:\")\n",
    "print(top_products)\n"
   ]
  },
  {
   "cell_type": "code",
   "execution_count": null,
   "id": "c3879bfa",
   "metadata": {},
   "outputs": [
    {
     "name": "stdout",
     "output_type": "stream",
     "text": [
      "\n",
      "The date with the highest total sales is 2023-01-07 with total sales of $15150.00\n"
     ]
    }
   ],
   "source": [
    "#Q3 Highest total sale date \n",
    "sales_data['Total Sales'] = sales_data['Quantity'] * sales_data['Price']  # Calculate total sales per transaction\n",
    "daily_sales = sales_data.groupby('Date')['Total Sales'].sum()  # Sum total sales by date\n",
    "max_sales_date = daily_sales.idxmax()   # Date with highest total sales\n",
    "max_sales_value = daily_sales.max()   # Value of highest total sales\n",
    "print(f\"\\nThe date with the highest total sales is {max_sales_date} with total sales of ${max_sales_value:.2f}\")"
   ]
  },
  {
   "cell_type": "markdown",
   "id": "b510eede",
   "metadata": {},
   "source": [
    "## Homework 2"
   ]
  },
  {
   "cell_type": "code",
   "execution_count": 22,
   "id": "8a629a89",
   "metadata": {},
   "outputs": [
    {
     "name": "stdout",
     "output_type": "stream",
     "text": [
      "Customers with 20 or more orders: [101, 102, 103, 104]\n"
     ]
    }
   ],
   "source": [
    "#Q1 \n",
    "import pandas as pd\n",
    "\n",
    "df = pd.read_csv('customer_orders.csv') #loading data from file \n",
    "\n",
    "order_counts = df.groupby('CustomerID')['OrderID'].count() #finding customers with 20+ orders\n",
    "frequent_customers = order_counts[order_counts >= 20].index\n",
    "print(\"Customers with 20 or more orders:\", frequent_customers.tolist())"
   ]
  },
  {
   "cell_type": "code",
   "execution_count": 24,
   "id": "edbef2f9",
   "metadata": {},
   "outputs": [
    {
     "name": "stdout",
     "output_type": "stream",
     "text": [
      "Customers with average price > $120: [102, 104]\n"
     ]
    }
   ],
   "source": [
    "#Q2 \n",
    "average_prices = df.groupby('CustomerID')['Price'].mean() #customers with avg price > 120 \n",
    "high_avg_customers = average_prices[average_prices > 120].index\n",
    "print(\"Customers with average price > $120:\", high_avg_customers.tolist())"
   ]
  },
  {
   "cell_type": "code",
   "execution_count": 25,
   "id": "eb7486d0",
   "metadata": {},
   "outputs": [
    {
     "name": "stdout",
     "output_type": "stream",
     "text": [
      "Products with total quantity >= 5 units:\n",
      "                  total_quantity  total_price\n",
      "Product                                      \n",
      "Cargo Pants                    6          180\n",
      "Dress Shirt                    5          125\n",
      "Formal Shirt                   6          210\n",
      "Smartphone                     5         2000\n",
      "Sport Shoes                    5          200\n",
      "Sunglasses                     5           75\n",
      "Wireless Earbuds               6          720\n"
     ]
    },
    {
     "name": "stderr",
     "output_type": "stream",
     "text": [
      "C:\\Users\\ITPARK\\AppData\\Local\\Temp\\ipykernel_17940\\1339068874.py:2: DeprecationWarning: DataFrameGroupBy.apply operated on the grouping columns. This behavior is deprecated, and in a future version of pandas the grouping columns will be excluded from the operation. Either pass `include_groups=False` to exclude the groupings or explicitly select the grouping columns after groupby to silence this warning.\n",
      "  product_summary = df.groupby('Product').apply(lambda x: pd.Series({\n"
     ]
    }
   ],
   "source": [
    "#Q3 \n",
    "product_summary = df.groupby('Product').apply(lambda x: pd.Series({\n",
    "    'total_quantity': x['Quantity'].sum(),\n",
    "    'total_price': (x['Quantity'] * x['Price']).sum()\n",
    "}))\n",
    "filtered_products = product_summary[product_summary['total_quantity'] >= 5]\n",
    "print(\"Products with total quantity >= 5 units:\")\n",
    "print(filtered_products)"
   ]
  },
  {
   "cell_type": "markdown",
   "id": "cbca157b",
   "metadata": {},
   "source": [
    "## Homework 3"
   ]
  },
  {
   "cell_type": "code",
   "execution_count": null,
   "id": "76113112",
   "metadata": {},
   "outputs": [],
   "source": [
    "import sqlite3\n",
    "import pandas as pd\n",
    "\n",
    "# Connecting to the database\n",
    "conn = sqlite3.connect('population.db')\n",
    "\n",
    "# Getting data from the population table\n",
    "df = pd.read_sql_query(\"SELECT salary, state FROM population\", conn)\n",
    "\n",
    "# Closing the database\n",
    "conn.close()\n",
    "\n",
    "salary_bands = [\n",
    "    (0, 200000), (200001, 400000), (400001, 600000), (600001, 800000),\n",
    "    (800001, 1000000), (1000001, 1200000), (1200001, 1400000), (1400001, 1600000),\n",
    "    (1600001, 1800000), (1800001, float('inf'))\n",
    "]\n",
    "\n",
    "# Storing results for salary bands\n",
    "band_results = {}\n",
    "for low, high in salary_bands:\n",
    "    band = f\"{low:,}-{high:,}\" if high != float('inf') else f\"{low:,} and over\"\n",
    "    band_results[band] = {'count': 0, 'sum': 0, 'salaries': []}\n",
    "\n",
    "# Storing results for states\n",
    "state_results = {}\n",
    "\n",
    "# Categorizin data\n",
    "for _, row in df.iterrows():\n",
    "    salary = row['salary']\n",
    "    state = row['state']\n",
    "    \n",
    "    # Finding salary band\n",
    "    for (low, high) in salary_bands:\n",
    "        if low <= salary < high:\n",
    "            band = f\"{low:,}-{high:,}\" if high != float('inf') else f\"{low:,} and over\"\n",
    "            band_results[band]['count'] += 1\n",
    "            band_results[band]['sum'] += salary\n",
    "            band_results[band]['salaries'].append(salary)\n",
    "            break\n",
    "    \n",
    "    # Adding to state data\n",
    "    if state in state_results:\n",
    "        state_results[state]['count'] += 1\n",
    "        state_results[state]['sum'] += salary\n",
    "        state_results[state]['salaries'].append(salary)\n",
    "    else:\n",
    "        state_results[state] = {'count': 1, 'sum': salary, 'salaries': [salary]}\n",
    "\n",
    "# Calculating measures\n",
    "band_data = []\n",
    "for band, data in band_results.items():\n",
    "    if data['count'] > 0:\n",
    "        pct = (data['count'] / len(df)) * 100\n",
    "        avg = data['sum'] / data['count']\n",
    "        med = pd.Series(data['salaries']).median()\n",
    "        band_data.append([band, f\"{pct:.2f}%\", f\"${avg:,.2f}\", f\"${med:,.2f}\", data['count']])\n",
    "\n",
    "state_data = []\n",
    "for state, data in state_results.items():\n",
    "    if data['count'] > 0:\n",
    "        pct = (data['count'] / len(df)) * 100\n",
    "        avg = data['sum'] / data['count']\n",
    "        med = pd.Series(data['salaries']).median()\n",
    "        state_data.append([state, f\"{pct:.2f}%\", f\"${avg:,.2f}\", f\"${med:,.2f}\", data['count']])\n",
    "\n",
    "# Creating DataFrames\n",
    "band_df = pd.DataFrame(band_data, columns=['Salary Band', 'Percentage', 'Average Salary', 'Median Salary', 'Number of population'])\n",
    "state_df = pd.DataFrame(state_data, columns=['State', 'Percentage', 'Average Salary', 'Median Salary', 'Number of population'])\n",
    "\n",
    "# Printing results\n",
    "print(\"Salary Band Analysis:\")\n",
    "print(band_df)\n",
    "print(\"\\nState Analysis:\")\n",
    "print(state_df)\n",
    "\n",
    "# Saving to Excel\n",
    "with pd.ExcelWriter('population_salary_analysis_results.xlsx') as writer:\n",
    "    band_df.to_excel(writer, sheet_name='Salary Bands', index=False)\n",
    "    state_df.to_excel(writer, sheet_name='States', index=False)"
   ]
  }
 ],
 "metadata": {
  "kernelspec": {
   "display_name": "Python 3",
   "language": "python",
   "name": "python3"
  },
  "language_info": {
   "codemirror_mode": {
    "name": "ipython",
    "version": 3
   },
   "file_extension": ".py",
   "mimetype": "text/x-python",
   "name": "python",
   "nbconvert_exporter": "python",
   "pygments_lexer": "ipython3",
   "version": "3.13.2"
  }
 },
 "nbformat": 4,
 "nbformat_minor": 5
}
