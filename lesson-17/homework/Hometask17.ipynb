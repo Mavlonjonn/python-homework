{
 "cells": [
  {
   "cell_type": "markdown",
   "id": "d78da522",
   "metadata": {},
   "source": [
    "## Homework 1"
   ]
  },
  {
   "cell_type": "code",
   "execution_count": 124,
   "id": "6932e999",
   "metadata": {},
   "outputs": [
    {
     "name": "stdout",
     "output_type": "stream",
     "text": [
      "  first name  age           City\n",
      "0      Alice   25       New York\n",
      "1        Bob   30  San Francisco\n",
      "2    Charlie   35    Los Angeles\n",
      "3      David   40        Chicago\n"
     ]
    }
   ],
   "source": [
    "#Q1 Updating column names \n",
    "import pandas as pd \n",
    "data = {'First Name': ['Alice', 'Bob', 'Charlie', 'David'], \n",
    "        'Age': [25, 30, 35, 40], \n",
    "        'City': ['New York', 'San Francisco', 'Los Angeles', 'Chicago']} \n",
    "df = pd.DataFrame(data)\n",
    "\n",
    "df = df.rename(columns={'First Name':'first name', 'Age':'age'}) #updating column names \n",
    "print(df)"
   ]
  },
  {
   "cell_type": "code",
   "execution_count": 125,
   "id": "3d00d11e",
   "metadata": {},
   "outputs": [
    {
     "name": "stdout",
     "output_type": "stream",
     "text": [
      "  first name  age           City\n",
      "0      Alice   25       New York\n",
      "1        Bob   30  San Francisco\n",
      "2    Charlie   35    Los Angeles\n"
     ]
    }
   ],
   "source": [
    "#Q2 First three rows \n",
    "first_three_rows = df.head(3)\n",
    "print(first_three_rows)"
   ]
  },
  {
   "cell_type": "code",
   "execution_count": 126,
   "id": "6cebca0c",
   "metadata": {},
   "outputs": [
    {
     "name": "stdout",
     "output_type": "stream",
     "text": [
      "32.5\n"
     ]
    }
   ],
   "source": [
    "#Q3 Mean age of individuals \n",
    "mean_age = df['age'].mean()\n",
    "print(mean_age)"
   ]
  },
  {
   "cell_type": "code",
   "execution_count": 127,
   "id": "ee4d1de9",
   "metadata": {},
   "outputs": [
    {
     "name": "stdout",
     "output_type": "stream",
     "text": [
      "  first name           City\n",
      "0      Alice       New York\n",
      "1        Bob  San Francisco\n",
      "2    Charlie    Los Angeles\n",
      "3      David        Chicago\n"
     ]
    }
   ],
   "source": [
    "#Q4 Selected columns \n",
    "name_and_city = df[['first name', 'City']]\n",
    "print(name_and_city)"
   ]
  },
  {
   "cell_type": "code",
   "execution_count": 128,
   "id": "a393046a",
   "metadata": {},
   "outputs": [
    {
     "name": "stdout",
     "output_type": "stream",
     "text": [
      "  first name  age           City  Salary\n",
      "0      Alice   25       New York   25490\n",
      "1        Bob   30  San Francisco   41043\n",
      "2    Charlie   35    Los Angeles   25011\n",
      "3      David   40        Chicago   38405\n"
     ]
    }
   ],
   "source": [
    "#Q5 New column\n",
    "import numpy as np\n",
    "import pandas as pd \n",
    "\n",
    "df['Salary'] = np.random.randint(20000, 70000, 4)\n",
    "print(df)"
   ]
  },
  {
   "cell_type": "code",
   "execution_count": null,
   "id": "0a07ef4f",
   "metadata": {},
   "outputs": [],
   "source": [
    "#Q6 Summary statistics of dataframe \n",
    "print(df['age'].describe())  #statistics about age column\n",
    "\n",
    "print(df['first name'].describe())  #statistics about name column \n",
    "\n",
    "print(df['Salary'].describe())  #statistics about salary column \n",
    "\n",
    "print(df.describe())  #statistics of dataframe "
   ]
  },
  {
   "cell_type": "markdown",
   "id": "13477e73",
   "metadata": {},
   "source": [
    "## Homework 2"
   ]
  },
  {
   "cell_type": "code",
   "execution_count": 152,
   "id": "f12042cd",
   "metadata": {},
   "outputs": [
    {
     "name": "stdout",
     "output_type": "stream",
     "text": [
      "  Month  Sales  Expenses\n",
      "0   Jan   5000      3000\n",
      "1   Feb   6000      3500\n",
      "2   Mar   7500      4000\n",
      "3   Apr   8000      4500\n"
     ]
    }
   ],
   "source": [
    "#Q1\n",
    "data = {\n",
    "    'Month' : ['Jan', 'Feb', 'Mar', 'Apr'],\n",
    "    'Sales' : [5000, 6000, 7500, 8000], \n",
    "    'Expenses' : [3000, 3500, 4000, 4500]\n",
    "}\n",
    "\n",
    "sales_and_expenses = pd.DataFrame(data)\n",
    "print(sales_and_expenses)"
   ]
  },
  {
   "cell_type": "code",
   "execution_count": 153,
   "id": "712f65b7",
   "metadata": {},
   "outputs": [
    {
     "name": "stdout",
     "output_type": "stream",
     "text": [
      "Max sales: 8000\n",
      "Max expenses: 4500\n"
     ]
    }
   ],
   "source": [
    "#Q2 \n",
    "max_sales = sales_and_expenses['Sales'].max()\n",
    "print(f'Max sales: {max_sales}')\n",
    "\n",
    "max_expenses = sales_and_expenses['Expenses'].max()\n",
    "print(f'Max expenses: {max_expenses}')"
   ]
  },
  {
   "cell_type": "code",
   "execution_count": 154,
   "id": "b1039724",
   "metadata": {},
   "outputs": [
    {
     "name": "stdout",
     "output_type": "stream",
     "text": [
      "Min sales: 5000\n",
      "Min expenses: 3000\n"
     ]
    }
   ],
   "source": [
    "#Q3 \n",
    "min_sales = sales_and_expenses['Sales'].min()\n",
    "print(f'Min sales: {min_sales}')\n",
    "\n",
    "min_expenses = sales_and_expenses['Expenses'].min()\n",
    "print(f'Min expenses: {min_expenses}')"
   ]
  },
  {
   "cell_type": "code",
   "execution_count": 155,
   "id": "db248221",
   "metadata": {},
   "outputs": [
    {
     "name": "stdout",
     "output_type": "stream",
     "text": [
      "Average sales: 6625.0\n",
      "Average expenses: 3750.0\n"
     ]
    }
   ],
   "source": [
    "#Q4 \n",
    "avg_sales = sales_and_expenses['Sales'].mean()\n",
    "print(f'Average sales: {avg_sales}')\n",
    "\n",
    "avg_expenses = sales_and_expenses['Expenses'].mean()\n",
    "print(f'Average expenses: {avg_expenses}')"
   ]
  },
  {
   "cell_type": "markdown",
   "id": "6f7c4e6a",
   "metadata": {},
   "source": [
    "## Homework 3"
   ]
  },
  {
   "cell_type": "code",
   "execution_count": null,
   "id": "93dbace3",
   "metadata": {},
   "outputs": [
    {
     "name": "stdout",
     "output_type": "stream",
     "text": [
      "        Category  January  February  March  April\n",
      "0           Rent     1200      1300   1400   1500\n",
      "1      Utilities      200       220    240    250\n",
      "2      Groceries      300       320    330    350\n",
      "3  Entertainment      150       160    170    180\n"
     ]
    }
   ],
   "source": [
    "#Q1\n",
    "data = {\n",
    "    'Category' : ['Rent', 'Utilities', 'Groceries', 'Entertainment'],\n",
    "    'January' : [1200, 200, 300, 150], \n",
    "    'February' : [1300, 220, 320, 160],\n",
    "    'March' : [1400, 240, 330, 170], \n",
    "    'April' : [1500, 250, 350, 180]\n",
    "} \n",
    "\n",
    "expenses = pd.DataFrame(data)\n",
    "print(expenses)"
   ]
  },
  {
   "cell_type": "code",
   "execution_count": null,
   "id": "b8fac689",
   "metadata": {},
   "outputs": [
    {
     "name": "stdout",
     "output_type": "stream",
     "text": [
      "        Category  Maximum Expense\n",
      "0           Rent             1500\n",
      "1      Utilities              250\n",
      "2      Groceries              350\n",
      "3  Entertainment              180\n"
     ]
    }
   ],
   "source": [
    "#Q2 \n",
    "expenses['Maximum Expense'] = expenses[['January', 'February', 'March', 'April']].max(axis=1) #looks at each category to find max value \n",
    "\n",
    "result = expenses[['Category', 'Maximum Expense']]\n",
    "print(result)"
   ]
  },
  {
   "cell_type": "code",
   "execution_count": null,
   "id": "55f0ffbf",
   "metadata": {},
   "outputs": [
    {
     "name": "stdout",
     "output_type": "stream",
     "text": [
      "        Category  Maximum Expense\n",
      "0           Rent           1500.0\n",
      "1      Utilities            250.0\n",
      "2      Groceries            350.0\n",
      "3  Entertainment            180.0\n"
     ]
    }
   ],
   "source": [
    "#Q2 \n",
    "result = expenses.set_index('Category').max(axis=1).reset_index(name='Maximum Expense')\n",
    "\n",
    "print(result)"
   ]
  },
  {
   "cell_type": "code",
   "execution_count": null,
   "id": "61648dd3",
   "metadata": {},
   "outputs": [
    {
     "name": "stdout",
     "output_type": "stream",
     "text": [
      "        Category  Minimum Expense\n",
      "0           Rent             1200\n",
      "1      Utilities              200\n",
      "2      Groceries              300\n",
      "3  Entertainment              150\n"
     ]
    }
   ],
   "source": [
    "#Q3 \n",
    "expenses['Minimum Expense'] = expenses[['January', 'February', 'March', 'April']].min(axis=1) #looks at each category to find min value \n",
    "\n",
    "result = expenses[['Category', 'Minimum Expense']]\n",
    "print(result)"
   ]
  },
  {
   "cell_type": "code",
   "execution_count": 169,
   "id": "9da1c1ef",
   "metadata": {},
   "outputs": [
    {
     "name": "stdout",
     "output_type": "stream",
     "text": [
      "        Category  Minimum Expense\n",
      "0           Rent           1200.0\n",
      "1      Utilities            200.0\n",
      "2      Groceries            300.0\n",
      "3  Entertainment            150.0\n"
     ]
    }
   ],
   "source": [
    "#Q3 \n",
    "result = expenses.set_index('Category').min(axis=1).reset_index(name='Minimum Expense')\n",
    "\n",
    "print(result)"
   ]
  },
  {
   "cell_type": "code",
   "execution_count": 163,
   "id": "0cbfb13d",
   "metadata": {},
   "outputs": [
    {
     "name": "stdout",
     "output_type": "stream",
     "text": [
      "        Category  Average Expense\n",
      "0           Rent           1350.0\n",
      "1      Utilities            227.5\n",
      "2      Groceries            325.0\n",
      "3  Entertainment            165.0\n"
     ]
    }
   ],
   "source": [
    "#Q4 \n",
    "expenses['Average Expense'] = expenses[['January', 'February', 'March', 'April']].mean(axis=1) #looks at each category to find mean value \n",
    "\n",
    "result = expenses[['Category', 'Average Expense']]\n",
    "print(result)"
   ]
  },
  {
   "cell_type": "code",
   "execution_count": 170,
   "id": "d3824c36",
   "metadata": {},
   "outputs": [
    {
     "name": "stdout",
     "output_type": "stream",
     "text": [
      "        Category  Average Expense\n",
      "0           Rent      1350.000000\n",
      "1      Utilities       226.785714\n",
      "2      Groceries       325.000000\n",
      "3  Entertainment       165.000000\n"
     ]
    }
   ],
   "source": [
    "#Q4 \n",
    "result = expenses.set_index('Category').mean(axis=1).reset_index(name='Average Expense')\n",
    "\n",
    "print(result)"
   ]
  }
 ],
 "metadata": {
  "kernelspec": {
   "display_name": "Python 3",
   "language": "python",
   "name": "python3"
  },
  "language_info": {
   "codemirror_mode": {
    "name": "ipython",
    "version": 3
   },
   "file_extension": ".py",
   "mimetype": "text/x-python",
   "name": "python",
   "nbconvert_exporter": "python",
   "pygments_lexer": "ipython3",
   "version": "3.13.2"
  }
 },
 "nbformat": 4,
 "nbformat_minor": 5
}
