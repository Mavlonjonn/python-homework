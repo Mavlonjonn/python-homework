{
 "cells": [
  {
   "cell_type": "markdown",
   "metadata": {},
   "source": [
    "Dictionaries"
   ]
  },
  {
   "cell_type": "code",
   "execution_count": 1,
   "metadata": {},
   "outputs": [
    {
     "name": "stdout",
     "output_type": "stream",
     "text": [
      "{'apple': 3, 'banana': 1, 'cherry': 2}\n"
     ]
    },
    {
     "data": {
      "text/plain": [
       "{'banana': 1, 'cherry': 2, 'apple': 3}"
      ]
     },
     "execution_count": 1,
     "metadata": {},
     "output_type": "execute_result"
    }
   ],
   "source": [
    "#q1 \n",
    "dl = {'apple': 3, 'banana': 1, 'cherry': 2}\n",
    "print(dl)\n",
    "\n",
    "dict(sorted(dl.items(), key=lambda item: item[1]))\n"
   ]
  },
  {
   "cell_type": "code",
   "execution_count": 2,
   "metadata": {},
   "outputs": [
    {
     "name": "stdout",
     "output_type": "stream",
     "text": [
      "{0: 10, 1: 20, 2: 30}\n"
     ]
    }
   ],
   "source": [
    "#q2\n",
    "s = {0: 10, 1: 20} \n",
    "s.update({2: 30})\n",
    "print(s)"
   ]
  },
  {
   "cell_type": "code",
   "execution_count": 21,
   "metadata": {},
   "outputs": [
    {
     "data": {
      "text/plain": [
       "{1: 10, 2: 20, 3: 30, 4: 40, 5: 50, 6: 60}"
      ]
     },
     "execution_count": 21,
     "metadata": {},
     "output_type": "execute_result"
    }
   ],
   "source": [
    "#q3 \n",
    "dic1 = {1: 10, 2: 20}\n",
    "dic2 = {3: 30, 4: 40}\n",
    "dic3 = {5: 50, 6: 60} \n",
    "\n",
    "\n",
    "dic1.update(dic2)\n",
    "dic1.update(dic3)\n",
    "nd = dic1\n",
    "nd\n",
    "\n"
   ]
  },
  {
   "cell_type": "code",
   "execution_count": null,
   "metadata": {},
   "outputs": [
    {
     "name": "stdout",
     "output_type": "stream",
     "text": [
      "{1: 1, 2: 4, 3: 9, 4: 16, 5: 25, 6: 36, 7: 49, 8: 64, 9: 81, 10: 100, 11: 121, 12: 144, 13: 169, 14: 196, 15: 225, 16: 256, 17: 289, 18: 324, 19: 361, 20: 400, 21: 441, 22: 484, 23: 529, 24: 576, 25: 625, 26: 676, 27: 729, 28: 784, 29: 841, 30: 900, 31: 961, 32: 1024, 33: 1089, 34: 1156, 35: 1225, 36: 1296, 37: 1369, 38: 1444, 39: 1521, 40: 1600, 41: 1681, 42: 1764, 43: 1849, 44: 1936, 45: 2025, 46: 2116, 47: 2209, 48: 2304, 49: 2401, 50: 2500, 51: 2601, 52: 2704, 53: 2809, 54: 2916, 55: 3025, 56: 3136, 57: 3249, 58: 3364, 59: 3481, 60: 3600, 61: 3721, 62: 3844, 63: 3969, 64: 4096, 65: 4225, 66: 4356, 67: 4489, 68: 4624, 69: 4761, 70: 4900, 71: 5041, 72: 5184, 73: 5329, 74: 5476, 75: 5625, 76: 5776, 77: 5929, 78: 6084, 79: 6241, 80: 6400, 81: 6561, 82: 6724, 83: 6889, 84: 7056, 85: 7225, 86: 7396, 87: 7569, 88: 7744, 89: 7921, 90: 8100, 91: 8281, 92: 8464, 93: 8649, 94: 8836, 95: 9025, 96: 9216, 97: 9409, 98: 9604, 99: 9801, 100: 10000}\n"
     ]
    }
   ],
   "source": [
    "#q4 \n",
    "n = int(input(\"Enter the limit number: \"))\n",
    "if n>0: \n",
    "    sqd = {x: x*x for x in range(1, n+1)}\n",
    "    print(sqd) \n",
    "else:\n",
    "    print('Enter sensible number.') \n",
    "    "
   ]
  },
  {
   "cell_type": "code",
   "execution_count": 7,
   "metadata": {},
   "outputs": [
    {
     "name": "stdout",
     "output_type": "stream",
     "text": [
      "{1: 1, 2: 4, 3: 9, 4: 16, 5: 25, 6: 36, 7: 49, 8: 64, 9: 81, 10: 100, 11: 121, 12: 144, 13: 169, 14: 196, 15: 225}\n"
     ]
    }
   ],
   "source": [
    "#q5 \n",
    "m = 15\n",
    "if n>0: \n",
    "    sqd = {x: x*x for x in range(1, m+1)}\n",
    "    print(sqd) \n",
    "else:\n",
    "    print('Enter sensible number.') \n"
   ]
  },
  {
   "cell_type": "markdown",
   "metadata": {},
   "source": [
    "Sets"
   ]
  },
  {
   "cell_type": "code",
   "execution_count": 2,
   "metadata": {},
   "outputs": [
    {
     "name": "stdout",
     "output_type": "stream",
     "text": [
      "<class 'set'>\n",
      "{'1', '2', '3', ' '}\n"
     ]
    }
   ],
   "source": [
    "#q1\n",
    "s = set(input(\"Enter a set: \"))\n",
    "print(type(s))\n",
    "print(s) \n"
   ]
  },
  {
   "cell_type": "code",
   "execution_count": 9,
   "metadata": {},
   "outputs": [
    {
     "name": "stdout",
     "output_type": "stream",
     "text": [
      "M\n",
      "r\n",
      "g\n",
      "i\n",
      "a\n",
      "e\n"
     ]
    }
   ],
   "source": [
    "#q2 \n",
    "s = set(input(\"Enter a set: \"))\n",
    "for x in s:\n",
    "    print(x)"
   ]
  },
  {
   "cell_type": "code",
   "execution_count": 10,
   "metadata": {},
   "outputs": [
    {
     "name": "stdout",
     "output_type": "stream",
     "text": [
      "{'1', ' ', '3', '4', '5', '2', '6'}\n"
     ]
    }
   ],
   "source": [
    "#q3 \n",
    "s = set(input(\"Enter a set: \"))\n",
    "a = input(\"Enter a value to add: \")\n",
    "s.add(a)\n",
    "b = input(\"Enter a value to update: \")\n",
    "s.update(b)\n",
    "\n",
    "print(s)"
   ]
  },
  {
   "cell_type": "code",
   "execution_count": 11,
   "metadata": {},
   "outputs": [
    {
     "name": "stdout",
     "output_type": "stream",
     "text": [
      "{'1', ' ', '3', '4'}\n"
     ]
    }
   ],
   "source": [
    "#q4 \n",
    "s = set(input(\"Enter a set: \"))\n",
    "a = input(\"Enter a value to add: \")\n",
    "s.add(a) \n",
    "r = input('Enter a value to remove: ')\n",
    "s.remove(r)\n",
    "print(s)"
   ]
  },
  {
   "cell_type": "code",
   "execution_count": null,
   "metadata": {},
   "outputs": [
    {
     "name": "stdout",
     "output_type": "stream",
     "text": [
      "The item is not in the list!\n",
      "{'1', '3', '5', '2', '6'}\n"
     ]
    }
   ],
   "source": [
    "#q5 \n",
    "s = set(input(\"Enter a set: \"))\n",
    "a = input(\"Enter a value to add: \")\n",
    "s.add(a) \n",
    "r = input('Enter a value to remove: ')\n",
    "if r in s:\n",
    "    s.remove(r)\n",
    "    print('The item has been removed')\n",
    "else:\n",
    "    print(\"The item doesn't exist in the list!\")\n",
    "print(s)"
   ]
  }
 ],
 "metadata": {
  "kernelspec": {
   "display_name": "Python 3",
   "language": "python",
   "name": "python3"
  },
  "language_info": {
   "codemirror_mode": {
    "name": "ipython",
    "version": 3
   },
   "file_extension": ".py",
   "mimetype": "text/x-python",
   "name": "python",
   "nbconvert_exporter": "python",
   "pygments_lexer": "ipython3",
   "version": "3.13.2"
  }
 },
 "nbformat": 4,
 "nbformat_minor": 2
}
