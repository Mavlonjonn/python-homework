{
 "cells": [
  {
   "cell_type": "markdown",
   "id": "09283df2",
   "metadata": {},
   "source": [
    "## Dataframe 1 "
   ]
  },
  {
   "cell_type": "code",
   "execution_count": 26,
   "id": "6316a704",
   "metadata": {},
   "outputs": [
    {
     "name": "stdout",
     "output_type": "stream",
     "text": [
      "DataFrame with Average Grades:\n",
      "   Student_ID  Math  English  Science    Average\n",
      "0           1    85       78       90  84.333333\n",
      "1           2    90       85       92  89.000000\n",
      "2           3    78       88       85  83.666667\n",
      "3           4    92       80       88  86.666667\n",
      "4           5    88       92       94  91.333333\n",
      "5           6    95       87       79  87.000000\n",
      "6           7    89       90       83  87.333333\n",
      "7           8    79       84       91  84.666667\n",
      "8           9    83       79       87  83.000000\n",
      "9          10    91       88       89  89.333333\n"
     ]
    }
   ],
   "source": [
    "#Q1 \n",
    "import pandas as pd\n",
    "\n",
    "# Creating the DataFrame\n",
    "data = {\n",
    "    'Student_ID': [1, 2, 3, 4, 5, 6, 7, 8, 9, 10],\n",
    "    'Math': [85, 90, 78, 92, 88, 95, 89, 79, 83, 91],\n",
    "    'English': [78, 85, 88, 80, 92, 87, 90, 84, 79, 88],\n",
    "    'Science': [90, 92, 85, 88, 94, 79, 83, 91, 87, 89]\n",
    "}\n",
    "df1 = pd.DataFrame(data)\n",
    "\n",
    "# Calculating the average grade for each student\n",
    "df1['Average'] = df1[['Math', 'English', 'Science']].mean(axis=1)\n",
    "\n",
    "# Displaying the DataFrame with the new average column\n",
    "print(\"DataFrame with Average Grades:\")\n",
    "print(df1)"
   ]
  },
  {
   "cell_type": "code",
   "execution_count": 27,
   "id": "b1a4b21f",
   "metadata": {},
   "outputs": [
    {
     "name": "stdout",
     "output_type": "stream",
     "text": [
      "Student with the Highest Average Grade:\n",
      "Student_ID     5.000000\n",
      "Math          88.000000\n",
      "English       92.000000\n",
      "Science       94.000000\n",
      "Average       91.333333\n",
      "Name: 4, dtype: float64\n"
     ]
    }
   ],
   "source": [
    "#Q2 \n",
    "\n",
    "# Calculate the average grade for each student\n",
    "df1['Average'] = df1[['Math', 'English', 'Science']].mean(axis=1)\n",
    "\n",
    "# Find the student with the highest average\n",
    "highest_avg_student = df1.loc[df1['Average'].idxmax()]\n",
    "\n",
    "# Display the result\n",
    "print(\"Student with the Highest Average Grade:\")\n",
    "print(highest_avg_student)\n"
   ]
  },
  {
   "cell_type": "code",
   "execution_count": 24,
   "id": "014d5c70",
   "metadata": {},
   "outputs": [
    {
     "name": "stdout",
     "output_type": "stream",
     "text": [
      "DataFrame with Total Marks:\n",
      "   Student_ID  Math  English  Science  Total\n",
      "0           1    85       78       90    253\n",
      "1           2    90       85       92    267\n",
      "2           3    78       88       85    251\n",
      "3           4    92       80       88    260\n",
      "4           5    88       92       94    274\n",
      "5           6    95       87       79    261\n",
      "6           7    89       90       83    262\n",
      "7           8    79       84       91    254\n",
      "8           9    83       79       87    249\n",
      "9          10    91       88       89    268\n"
     ]
    }
   ],
   "source": [
    "#Q3 \n",
    "\n",
    "# Calculate the total marks for each student\n",
    "df1['Total'] = df1[['Math', 'English', 'Science']].sum(axis=1)\n",
    "\n",
    "# Display the DataFrame with the new total column\n",
    "print(\"DataFrame with Total Marks:\")\n",
    "print(df1)"
   ]
  },
  {
   "cell_type": "code",
   "execution_count": null,
   "id": "43dc62f2",
   "metadata": {},
   "outputs": [],
   "source": [
    "#Q4 \n",
    "import pandas as pd\n",
    "import matplotlib.pyplot as plt\n",
    "\n",
    "subject_averages = df1[['Math', 'English', 'Science']].mean()\n",
    "\n",
    "# Plot a bar chart\n",
    "subject_averages.plot(kind='bar', color=['blue', 'green', 'red'])\n",
    "plt.title('Average Grades in Each Subject')\n",
    "plt.xlabel('Subject')\n",
    "plt.ylabel('Average Grade')\n",
    "plt.show()"
   ]
  },
  {
   "cell_type": "markdown",
   "id": "df38ca4c",
   "metadata": {},
   "source": [
    "## Dataframe 2"
   ]
  },
  {
   "cell_type": "code",
   "execution_count": null,
   "id": "a0cbda72",
   "metadata": {},
   "outputs": [],
   "source": [
    "#Q1 \n",
    "import pandas as pd\n",
    "\n",
    "# Create the DataFrame\n",
    "data = {\n",
    "    'Date': pd.date_range(start='2023-01-01', periods=10),\n",
    "    'Product_A': [120, 150, 130, 110, 140, 160, 135, 125, 145, 155],\n",
    "    'Product_B': [90, 116, 100, 80, 95, 105, 88, 88, 102, 112],\n",
    "    'Product_C': [75, 80, 85, 70, 88, 92, 78, 82, 87, 90]\n",
    "}\n",
    "df2 = pd.DataFrame(data)\n",
    "\n",
    "# Calculate total sales for each product\n",
    "total_sales = df2[['Product_A', 'Product_B', 'Product_C']].sum()\n",
    "\n",
    "# Display the result\n",
    "print(\"Total Sales for Each Product:\")\n",
    "print(total_sales)"
   ]
  },
  {
   "cell_type": "code",
   "execution_count": null,
   "id": "b005aaa1",
   "metadata": {},
   "outputs": [],
   "source": [
    "#Q2 \n",
    "\n",
    "# Calculate total sales per day\n",
    "df2['Total_Sales'] = df2[['Product_A', 'Product_B', 'Product_C']].sum(axis=1)\n",
    "\n",
    "# Find the date with the highest total sales\n",
    "highest_sales_date = df2.loc[df2['Total_Sales'].idxmax()]\n",
    "\n",
    "# Display the result\n",
    "print(\"Date with the Highest Total Sales:\")\n",
    "print(highest_sales_date)"
   ]
  },
  {
   "cell_type": "code",
   "execution_count": null,
   "id": "f89bf737",
   "metadata": {},
   "outputs": [],
   "source": [
    "#Q3 \n",
    "\n",
    "# Calculate percentage change for each product\n",
    "df2['Product_A_Pct_Change'] = df2['Product_A'].pct_change() * 100\n",
    "df2['Product_B_Pct_Change'] = df2['Product_B'].pct_change() * 100\n",
    "df2['Product_C_Pct_Change'] = df2['Product_C'].pct_change() * 100\n",
    "\n",
    "# Display the DataFrame with percentage changes\n",
    "print(\"DataFrame with Percentage Change in Sales:\")\n",
    "print(df2)"
   ]
  },
  {
   "cell_type": "code",
   "execution_count": null,
   "id": "1d93a9d2",
   "metadata": {},
   "outputs": [],
   "source": [
    "#Q4 \n",
    "\n",
    "plt.plot(df2['Date'], df2['Product_A'], label='Product A', marker='o')\n",
    "plt.plot(df2['Date'], df2['Product_B'], label='Product B', marker='o')\n",
    "plt.plot(df2['Date'], df2['Product_C'], label='Product C', marker='o')\n",
    "\n",
    "# Add titles and labels\n",
    "plt.title('Sales Trends for Each Product Over Time')\n",
    "plt.xlabel('Date')\n",
    "plt.ylabel('Sales')\n",
    "plt.legend()\n",
    "plt.grid(True)\n",
    "plt.xticks(rotation=45)\n",
    "plt.tight_layout()\n",
    "\n",
    "# Display the plot\n",
    "plt.show()"
   ]
  },
  {
   "cell_type": "markdown",
   "id": "3aeb579b",
   "metadata": {},
   "source": [
    "## Dataframe 3"
   ]
  },
  {
   "cell_type": "code",
   "execution_count": null,
   "id": "c75ffcc1",
   "metadata": {},
   "outputs": [],
   "source": [
    "#Q1 \n",
    "import pandas as pd\n",
    "\n",
    "# Create the DataFrame\n",
    "data3 = {\n",
    "    'Employee_ID': [101, 102, 103, 104, 105, 106, 107, 108, 109, 110],\n",
    "    'Name': ['Alice', 'Bob', 'Charlie', 'David', 'Emma', 'Frank', 'Grace', 'Hank', 'Ivy', 'Jack'],\n",
    "    'Department': ['HR', 'IT', 'Marketing', 'IT', 'Finance', 'HR', 'Marketing', 'IT', 'Finance', 'Marketing'],\n",
    "    'Salary': [60000, 75000, 65000, 80000, 70000, 68000, 78000, 69000, 76000, 72000],\n",
    "    'Experience (Years)': [3, 5, 2, 8, 4, 6, 3, 7, 2, 5]\n",
    "}\n",
    "df3 = pd.DataFrame(data3)\n",
    "\n",
    "# Calculate average salary for each department\n",
    "avg_salary_by_dept = df3.groupby('Department')['Salary'].mean()\n",
    "\n",
    "# Display the result\n",
    "print(\"Average Salary for Each Department:\")\n",
    "print(avg_salary_by_dept)"
   ]
  },
  {
   "cell_type": "code",
   "execution_count": null,
   "id": "c3c95c29",
   "metadata": {},
   "outputs": [],
   "source": [
    "#Q2 \n",
    "most_experienced = df3.loc[df3['Experience (Years)'].idxmax()]\n",
    "\n",
    "# Display the result\n",
    "print(\"Employee with the Most Experience:\")\n",
    "print(most_experienced)"
   ]
  },
  {
   "cell_type": "code",
   "execution_count": null,
   "id": "ae3472bd",
   "metadata": {},
   "outputs": [],
   "source": [
    "#Q3 \n",
    "min_salary = df3['Salary'].min()\n",
    "\n",
    "# Create a new column for percentage increase from minimum salary\n",
    "df3['Salary Increase'] = ((df3['Salary'] - min_salary) / min_salary) * 100\n",
    "\n",
    "# Display the DataFrame with the new column\n",
    "print(\"DataFrame with Salary Increase:\")\n",
    "print(df3)"
   ]
  },
  {
   "cell_type": "code",
   "execution_count": null,
   "id": "4bc3b1c1",
   "metadata": {},
   "outputs": [],
   "source": [
    "#Q4 \n",
    "dept_distribution = df3['Department'].value_counts()\n",
    "\n",
    "# Plot a bar chart\n",
    "dept_distribution.plot(kind='bar', color='skyblue')\n",
    "plt.title('Distribution of Employees Across Departments')\n",
    "plt.xlabel('Department')\n",
    "plt.ylabel('Number of Employees')\n",
    "plt.xticks(rotation=45)\n",
    "plt.show()"
   ]
  },
  {
   "cell_type": "markdown",
   "id": "7265741f",
   "metadata": {},
   "source": [
    "## Dataframe 4"
   ]
  },
  {
   "cell_type": "code",
   "execution_count": null,
   "id": "f3a5a744",
   "metadata": {},
   "outputs": [],
   "source": [
    "#Q1 \n",
    "import pandas as pd\n",
    "\n",
    "# Create the DataFrame\n",
    "data4 = {\n",
    "    'Order_ID': [101, 102, 103, 104, 105, 106, 107, 108, 109, 110],\n",
    "    'Customer_ID': [201, 202, 203, 204, 205, 206, 207, 208, 209, 210],\n",
    "    'Product': ['A', 'B', 'A', 'C', 'B', 'A', 'C', 'B', 'A', 'C'],\n",
    "    'Quantity': [2, 3, 1, 4, 2, 3, 2, 5, 1, 3],\n",
    "    'Total_Price': [120, 180, 60, 240, 166, 270, 140, 300, 90, 180]\n",
    "}\n",
    "df4 = pd.DataFrame(data4)\n",
    "\n",
    "# Calculate total revenue\n",
    "total_revenue = df4['Total_Price'].sum()\n",
    "\n",
    "# Display the result\n",
    "print(\"Total Revenue from All Orders:\")\n",
    "print(f\"${total_revenue}\")"
   ]
  },
  {
   "cell_type": "code",
   "execution_count": null,
   "id": "f324c262",
   "metadata": {},
   "outputs": [],
   "source": [
    "#Q2\n",
    "most_ordered = df4['Product'].value_counts().idxmax()\n",
    "\n",
    "# Display the result\n",
    "print(\"Most Ordered Product:\")\n",
    "print(most_ordered)"
   ]
  },
  {
   "cell_type": "code",
   "execution_count": null,
   "id": "0c5adc63",
   "metadata": {},
   "outputs": [],
   "source": [
    "#Q3\n",
    "avg_quantity = df4['Quantity'].mean()\n",
    "\n",
    "# Display the result\n",
    "print(\"Average Quantity of Products Ordered:\")\n",
    "print(f\"{avg_quantity:.2f}\")"
   ]
  },
  {
   "cell_type": "code",
   "execution_count": null,
   "id": "40987379",
   "metadata": {},
   "outputs": [],
   "source": [
    "#Q4 \n",
    "sales_by_product = df4.groupby('Product')['Total_Price'].sum()\n",
    "\n",
    "# Plot a pie chart\n",
    "sales_by_product.plot(kind='pie', autopct='%1.1f%%', startangle=90)\n",
    "plt.title('Distribution of Sales Across Different Products')\n",
    "plt.ylabel('')  # Hide y-label\n",
    "plt.show()"
   ]
  }
 ],
 "metadata": {
  "kernelspec": {
   "display_name": "Python 3",
   "language": "python",
   "name": "python3"
  },
  "language_info": {
   "codemirror_mode": {
    "name": "ipython",
    "version": 3
   },
   "file_extension": ".py",
   "mimetype": "text/x-python",
   "name": "python",
   "nbconvert_exporter": "python",
   "pygments_lexer": "ipython3",
   "version": "3.13.2"
  }
 },
 "nbformat": 4,
 "nbformat_minor": 5
}
